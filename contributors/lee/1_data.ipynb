{
 "cells": [
  {
   "cell_type": "markdown",
   "metadata": {},
   "source": [
    "## geo_mozambique_1"
   ]
  },
  {
   "cell_type": "code",
   "execution_count": 24,
   "metadata": {},
   "outputs": [],
   "source": [
    "import pandas as pd\n",
    "import geopandas as gpd\n",
    "import numpy as np\n",
    "import matplotlib.pyplot as plt\n",
    "\n",
    "import earthpy as et\n",
    "import earthpy.plot as ep\n",
    "import earthpy.spatial as es\n",
    "\n",
    "import osmnx as ox\n",
    "\n",
    "from bs4 import BeautifulSoup\n",
    "\n",
    "import fiona\n",
    "\n",
    "import gdal\n",
    "\n",
    "import pyproj\n",
    "\n",
    "import rasterio as rio\n",
    "from rasterio.plot import show, show_hist\n",
    "from rasterio.mask import mask\n",
    "\n",
    "import cartopy as cp\n",
    "from shapely.geometry import mapping\n",
    "from pathlib import Path\n",
    "\n",
    "import requests\n",
    "import urllib\n",
    "import urllib.parse\n",
    "\n",
    "import os\n",
    "import pathlib\n",
    "import subprocess\n",
    "\n",
    "import holoviews as hv\n",
    "import hvplot.xarray\n",
    "import hvplot.pandas\n",
    "import geoviews as gv\n",
    "\n",
    "from ast import literal_eval\n",
    "\n",
    "import shapely\n",
    "\n",
    "from ipyleaflet import (Map, basemaps, basemap_to_tiles, \n",
    "                       TileLayer, SplitMapControl, Polygon)\n",
    "\n",
    "%matplotlib inline"
   ]
  },
  {
   "cell_type": "code",
   "execution_count": 25,
   "metadata": {},
   "outputs": [],
   "source": [
    "np.random.seed(3)"
   ]
  },
  {
   "cell_type": "markdown",
   "metadata": {},
   "source": [
    "### Data understanding"
   ]
  },
  {
   "cell_type": "markdown",
   "metadata": {},
   "source": [
    "#### Acquire vector files of country boundaries"
   ]
  },
  {
   "cell_type": "code",
   "execution_count": 26,
   "metadata": {},
   "outputs": [
    {
     "data": {
      "text/plain": [
       "{'init': 'epsg:4326'}"
      ]
     },
     "execution_count": 26,
     "metadata": {},
     "output_type": "execute_result"
    }
   ],
   "source": [
    "# download 10m country boundary vector files from Natural Earth\n",
    "subprocess.call(['wget',\n",
    "                 'https://www.naturalearthdata.com/http//www.naturalearthdata.com/download/10m/cultural/ne_10m_admin_0_countries.zip', #noqa\n",
    "                 '-P',\n",
    "                 '~/Documents/projects_code/geo_mozambique/data/shapes/'])\n",
    "\n",
    "# unzip downloaded files\n",
    "subprocess.call(['unzip',\n",
    "                 '~/Documents/projects_code/geo_mozambique/data/shapes/ne_10m_admin_0_countries.zip', #noqa\n",
    "                 '-d', \n",
    "                 '~/Documents/projects_code/geo_mozambique/data/shapes/'])\n",
    "\n",
    "# specify directory containing shapefiles\n",
    "shapes = '/Users/lee/Documents/projects_code/geo_mozambique/data/shapes/ne_10m_admin_0_countries.shp' #noqa\n",
    "\n",
    "# create geodataframe, a pandas-like data structure containing geoseries\n",
    "gdf = gpd.read_file(shapes)\n",
    "\n",
    "# inspect coordinate reference system (CRS). EPSG code 4326, which is WGS84\n",
    "gdf.crs"
   ]
  },
  {
   "cell_type": "code",
   "execution_count": 27,
   "metadata": {},
   "outputs": [
    {
     "data": {
      "text/plain": [
       "122    (POLYGON ((32.11388431800009 -26.8400143429999...\n",
       "Name: geometry, dtype: object"
      ]
     },
     "execution_count": 27,
     "metadata": {},
     "output_type": "execute_result"
    }
   ],
   "source": [
    "# subset shape file to only include country borders of Mozambique\n",
    "gdf_mozambique = gdf[gdf['ADMIN']=='Mozambique']\n",
    "\n",
    "# inspect geometry\n",
    "gdf_mozambique.geometry"
   ]
  },
  {
   "cell_type": "code",
   "execution_count": 28,
   "metadata": {},
   "outputs": [
    {
     "data": {
      "image/png": "[encoded data removed]",
      "text/plain": [
       "<Figure size 432x432 with 1 Axes>"
      ]
     },
     "metadata": {
      "needs_background": "light"
     },
     "output_type": "display_data"
    }
   ],
   "source": [
    "# plot Mozambique polygon \n",
    "fig, ax = plt.subplots(figsize=(6,6))\n",
    "\n",
    "ax.set_aspect('equal') # set aspect to equal when plotting directly with plt\n",
    "_ = gdf_mozambique.plot(ax=ax, legend=True)"
   ]
  },
  {
   "cell_type": "markdown",
   "metadata": {},
   "source": [
    "#### Acquire high-resolution raster files from Maxar's Digital Globe Open Data"
   ]
  },
  {
   "cell_type": "code",
   "execution_count": 29,
   "metadata": {},
   "outputs": [
    {
     "name": "stdout",
     "output_type": "stream",
     "text": [
      "{'driver': 'GTiff', 'dtype': 'uint8', 'nodata': 0.0, 'width': 19584, 'height': 19584, 'count': 3, 'crs': CRS.from_epsg(4326), 'transform': Affine(4.48787913602941e-06, 0.0, 33.3984375,\n",
      "       0.0, -4.48787913602941e-06, -21.005859375), 'tiled': False, 'interleave': 'pixel'}\n"
     ]
    }
   ],
   "source": [
    "# pre-inspect metadata of vector files\n",
    "filepath = 'https://opendata.digitalglobe.com/cyclone_idai/pre-event/2019-03-07/103001008BD57E00/1131100.tif' #noqa\n",
    "with rio.open(filepath) as src:\n",
    "    print(src.profile)\n",
    "\n",
    "# ('driver': 'GTiff') = object is a Geotiff\n",
    "# Digital Global open data files are Cloud Optimized Geotif (COG), which is a \n",
    "# regular GeoTIFF file for hosting on a HTTP file server, for cloud workflows,\n",
    "# by leveraging client HTTP GET range requests to ask for relevant file parts\n",
    "\n",
    "# ('dtype': 'uint8') = image values are unsigned integer format\n",
    "# ('nodata': 0.0) = nodata values are not assigned\n",
    "# ('width': 19584, 'height': 19584) = img has dimensions of 19584 x 19584 \n",
    "# ('count': 3) = is a single band\n",
    "# ('crs': CRS.from_epsg(4326) = is in UTM coordinates\n",
    "# (Affine()) = has a simple affine transformation (Affine())\n",
    "# ('tiled': False) = is not chunked into smaller arrays\n",
    "# ('interleave': 'pixel') = interleave is pixel"
   ]
  },
  {
   "cell_type": "code",
   "execution_count": 30,
   "metadata": {},
   "outputs": [
    {
     "data": {
      "text/plain": [
       "0"
      ]
     },
     "execution_count": 30,
     "metadata": {},
     "output_type": "execute_result"
    }
   ],
   "source": [
    "# build virtual dataset (VRT) for mosaic from Digital Globe files \n",
    "subprocess.call(['gdalbuildvrt', 'test.vrt', '/vsicurl/https://opendata.digitalglobe.com/cyclone_idai/pre-event/2019-03-07/103001008BD57E00/1131100.tif']) #noqa"
   ]
  },
  {
   "cell_type": "markdown",
   "metadata": {},
   "source": [
    "#### Scrape images from Digital Global open data"
   ]
  },
  {
   "cell_type": "code",
   "execution_count": 31,
   "metadata": {},
   "outputs": [
    {
     "ename": "NameError",
     "evalue": "name 'get_opendata' is not defined",
     "output_type": "error",
     "traceback": [
      "\u001b[0;31m---------------------------------------------------------------------------\u001b[0m",
      "\u001b[0;31mNameError\u001b[0m                                 Traceback (most recent call last)",
      "\u001b[0;32m<ipython-input-31-95d2daf5cd1f>\u001b[0m in \u001b[0;36m<module>\u001b[0;34m\u001b[0m\n\u001b[0;32m----> 1\u001b[0;31m \u001b[0mget_opendata\u001b[0m\u001b[0;34m(\u001b[0m\u001b[0;34m'cyclone_idai'\u001b[0m\u001b[0;34m,\u001b[0m \u001b[0;34m'event_tifs_3'\u001b[0m\u001b[0;34m)\u001b[0m\u001b[0;34m\u001b[0m\u001b[0;34m\u001b[0m\u001b[0m\n\u001b[0m",
      "\u001b[0;31mNameError\u001b[0m: name 'get_opendata' is not defined"
     ]
    }
   ],
   "source": [
    "get_opendata('cyclone_idai', 'event_tifs_3')"
   ]
  },
  {
   "cell_type": "markdown",
   "metadata": {},
   "source": [
    "#### Open file"
   ]
  },
  {
   "cell_type": "markdown",
   "metadata": {},
   "source": [
    "- a dataset band is an array of values representing the partial distribution of a single variable in 2-dimensional (2D) space. \n",
    "- all band arrays of a dataset have the same number of rows and columns. \n",
    "- the variable represented by the example dataset’s sole band is Level-1 digital numbers (DN) for the Landsat 8 operational Land Imager (OLI) band 4 (wavelengths between 640-670 nanometers). \n",
    "- these values can be scaled to radiance or reflectance values. The array of DN values is 7731 columns wide and 7871 rows high."
   ]
  },
  {
   "cell_type": "code",
   "execution_count": null,
   "metadata": {
    "scrolled": true
   },
   "outputs": [],
   "source": [
    "# plot low-res overview by accessing grid of raster values as a np array:\n",
    "\n",
    "with rio.open(filepath) as src:\n",
    "   oviews = src.overviews(1) # list of overviews from largest to smallest\n",
    "   oview = oviews[-1] # inspect smallest thumbnail\n",
    "   print('Decimation factor= {}'.format(oview)) # use 'decimated read'\n",
    "   thumbnail = src.read(1, out_shape=(1, \n",
    "                                      int(src.height // oview), \n",
    "                                      int(src.width // oview)))\n",
    "\n",
    "print('array type: ',type(thumbnail))\n",
    "print(thumbnail)\n",
    "\n",
    "plt.imshow(thumbnail)\n",
    "plt.colorbar()\n",
    "plt.title('Overview {}'.format(thumbnail.shape))\n",
    "plt.xlabel('Column #')\n",
    "plt.ylabel('Row #')"
   ]
  },
  {
   "cell_type": "code",
   "execution_count": null,
   "metadata": {},
   "outputs": [],
   "source": [
    "with rio.open('https://opendata.digitalglobe.com/cyclone_idai/pre-event/2019-03-07/103001008BD57E00/1131100.tif') as src:\n",
    "    src.read()"
   ]
  },
  {
   "cell_type": "code",
   "execution_count": null,
   "metadata": {},
   "outputs": [],
   "source": [
    "# plot red, green, blue bands\n",
    "fig, (axr, axg, axb) = plt.subplots(1,3, figsize=(21,7))\n",
    "show((src, 1), ax=axr, cmap='Reds', title='red channel')\n",
    "\n",
    "# plt.axes._subplots.AxesSubplot\n",
    "show((src, 2), ax=axg, cmap='Greens', title='green channel')\n",
    "\n",
    "# plt.axes._subplots.AxesSubplot\n",
    "show((src, 3), ax=axb, cmap='Blues', title='blue channel')\n",
    "\n",
    "# plt.axes._subplots.AxesSubplot\n",
    "\n",
    "plt.show()"
   ]
  },
  {
   "cell_type": "code",
   "execution_count": null,
   "metadata": {},
   "outputs": [],
   "source": [
    "# plot color bands histogram\n",
    "show_hist(\n",
    "     dataset, bins=50, lw=0.0, stacked=False, alpha=0.3,\n",
    "     histtype='stepfilled', title=\"Histogram\")"
   ]
  },
  {
   "cell_type": "code",
   "execution_count": null,
   "metadata": {},
   "outputs": [],
   "source": [
    "# plot color bands and associated histogram\n",
    "fig, (axrgb, axhist) = plt.subplots(1, 2, figsize=(14,7))\n",
    "show(dataset, ax=axrgb)\n",
    "plt.axes._subplots.AxesSubplot\n",
    "show_hist(dataset, bins=50, histtype='stepfilled',\n",
    "           lw=0.0, stacked=False, alpha=0.3, ax=axhist)\n",
    "plt.show()\n"
   ]
  },
  {
   "cell_type": "code",
   "execution_count": null,
   "metadata": {},
   "outputs": [],
   "source": [
    "# inspect number of bands, indexed by convention from 1, not 0\n",
    "dataset.indexes"
   ]
  },
  {
   "cell_type": "markdown",
   "metadata": {},
   "source": [
    "### Data preparation"
   ]
  },
  {
   "cell_type": "markdown",
   "metadata": {},
   "source": [
    "#### Data preparation: Make raster using shapefile"
   ]
  },
  {
   "cell_type": "code",
   "execution_count": null,
   "metadata": {},
   "outputs": [],
   "source": [
    "# with fiona.open(mozambique_area, \"r\") as shapefile:\n",
    "#     features = [feature[\"geometry\"] for feature in shapefile]"
   ]
  },
  {
   "cell_type": "markdown",
   "metadata": {},
   "source": [
    "#### Data preparation - Convert  .tif to  .mbtiles"
   ]
  },
  {
   "cell_type": "code",
   "execution_count": 22,
   "metadata": {},
   "outputs": [
    {
     "data": {
      "text/plain": [
       "1"
      ]
     },
     "execution_count": 22,
     "metadata": {},
     "output_type": "execute_result"
    }
   ],
   "source": [
    "# prepare data for ML training by converting file format from .tif to .mbtiles \n",
    "subprocess.call(['gdal_translate', '-of', 'MBTiles', 'https://opendata.digitalglobe.com/cyclone_idai/pre-event/2019-03-07/103001008BD57E00/1131100.tif', '1131100.mbtiles'])"
   ]
  },
  {
   "cell_type": "markdown",
   "metadata": {},
   "source": [
    "#### Data understanding"
   ]
  },
  {
   "cell_type": "code",
   "execution_count": null,
   "metadata": {},
   "outputs": [],
   "source": [
    "# get TMS slippymap tiles that cover bounding boxes with Mapbox SUPERMERCADO"
   ]
  },
  {
   "cell_type": "markdown",
   "metadata": {},
   "source": [
    "#### Create Pascal VOC data structure as format to present data to CNN Object Detector"
   ]
  },
  {
   "cell_type": "code",
   "execution_count": null,
   "metadata": {},
   "outputs": [],
   "source": [
    "# tmsVOCxml('VOC1900/','buildings',joined)\n",
    "# flattenTMS('tiles/','19','VOC1900/') \n",
    "#     flatten the TMS tile structure to put all images in one directory"
   ]
  },
  {
   "cell_type": "code",
   "execution_count": null,
   "metadata": {},
   "outputs": [],
   "source": [
    "# import os\n",
    "# cleanupPairs('VOC1900/')"
   ]
  },
  {
   "cell_type": "code",
   "execution_count": null,
   "metadata": {},
   "outputs": [],
   "source": [
    "ls VOC1900/Annotations/*.xml | wc -l"
   ]
  },
  {
   "cell_type": "code",
   "execution_count": null,
   "metadata": {},
   "outputs": [],
   "source": [
    "ls VOC1900/JPEGImages/*.jpg | wc -l"
   ]
  }
 ],
 "metadata": {
  "kernelspec": {
   "display_name": "Python 3",
   "language": "python",
   "name": "python3"
  },
  "language_info": {
   "codemirror_mode": {
    "name": "ipython",
    "version": 3
   },
   "file_extension": ".py",
   "mimetype": "text/x-python",
   "name": "python",
   "nbconvert_exporter": "python",
   "pygments_lexer": "ipython3",
   "version": "3.7.3"
  },
  "nbTranslate": {
   "displayLangs": [
    "*"
   ],
   "hotkey": "alt-t",
   "langInMainMenu": true,
   "sourceLang": "en",
   "targetLang": "fr",
   "useGoogleTranslate": true
  },
  "toc": {
   "base_numbering": 1,
   "nav_menu": {},
   "number_sections": true,
   "sideBar": true,
   "skip_h1_title": false,
   "title_cell": "Table of Contents",
   "title_sidebar": "Contents",
   "toc_cell": false,
   "toc_position": {},
   "toc_section_display": true,
   "toc_window_display": false
  }
 },
 "nbformat": 4,
 "nbformat_minor": 4
}
