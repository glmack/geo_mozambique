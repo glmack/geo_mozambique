{
 "cells": [
  {
   "cell_type": "markdown",
   "metadata": {},
   "source": [
    "## geo_mozambique_1"
   ]
  },
  {
   "cell_type": "code",
   "execution_count": 1,
   "metadata": {},
   "outputs": [],
   "source": [
    "import geopandas as gpd\n",
    "import matplotlib.pyplot as plt\n",
    "\n",
    "import earthpy as et\n",
    "import earthpy.plot as ep\n",
    "import earthpy.spatial as es\n",
    "\n",
    "import fiona\n",
    "\n",
    "import rasterio as rio\n",
    "from rasterio.plot import show\n",
    "from rasterio.mask import mask\n",
    "\n",
    "import cartopy as cp\n",
    "from shapely.geometry import mapping\n",
    "from pathlib import Path"
   ]
  },
  {
   "cell_type": "markdown",
   "metadata": {},
   "source": [
    "### Data understanding"
   ]
  },
  {
   "cell_type": "markdown",
   "metadata": {},
   "source": [
    "#### Download shapefiles"
   ]
  },
  {
   "cell_type": "code",
   "execution_count": 7,
   "metadata": {},
   "outputs": [
    {
     "name": "stdout",
     "output_type": "stream",
     "text": [
      "Archive:  /Users/lee/Documents/projects_code/geo_mozambique/data/shapes/ne_10m_admin_0_countries.zip\n",
      "  inflating: /Users/lee/Documents/projects_code/geo_mozambique/data/shapes/ne_10m_admin_0_countries.README.html  \n",
      " extracting: /Users/lee/Documents/projects_code/geo_mozambique/data/shapes/ne_10m_admin_0_countries.VERSION.txt  \n",
      " extracting: /Users/lee/Documents/projects_code/geo_mozambique/data/shapes/ne_10m_admin_0_countries.cpg  \n",
      "  inflating: /Users/lee/Documents/projects_code/geo_mozambique/data/shapes/ne_10m_admin_0_countries.dbf  \n",
      "  inflating: /Users/lee/Documents/projects_code/geo_mozambique/data/shapes/ne_10m_admin_0_countries.prj  \n",
      "  inflating: /Users/lee/Documents/projects_code/geo_mozambique/data/shapes/ne_10m_admin_0_countries.shp  \n",
      "  inflating: /Users/lee/Documents/projects_code/geo_mozambique/data/shapes/ne_10m_admin_0_countries.shx  \n"
     ]
    },
    {
     "name": "stderr",
     "output_type": "stream",
     "text": [
      "--2019-09-16 21:26:17--  https://www.naturalearthdata.com/http//www.naturalearthdata.com/download/10m/cultural/ne_10m_admin_0_countries.zip\n",
      "Resolving www.naturalearthdata.com (www.naturalearthdata.com)... 66.147.242.194\n",
      "Connecting to www.naturalearthdata.com (www.naturalearthdata.com)|66.147.242.194|:443... connected.\n",
      "HTTP request sent, awaiting response... 302 Moved Temporarily\n",
      "Location: http://naciscdn.org/naturalearth/10m/cultural/ne_10m_admin_0_countries.zip [following]\n",
      "--2019-09-16 21:26:18--  http://naciscdn.org/naturalearth/10m/cultural/ne_10m_admin_0_countries.zip\n",
      "Resolving naciscdn.org (naciscdn.org)... 146.201.97.163\n",
      "Connecting to naciscdn.org (naciscdn.org)|146.201.97.163|:80... connected.\n",
      "HTTP request sent, awaiting response... 301 Moved Permanently\n",
      "Location: https://naciscdn.org/naturalearth/10m/cultural/ne_10m_admin_0_countries.zip [following]\n",
      "--2019-09-16 21:26:18--  https://naciscdn.org/naturalearth/10m/cultural/ne_10m_admin_0_countries.zip\n",
      "Connecting to naciscdn.org (naciscdn.org)|146.201.97.163|:443... connected.\n",
      "HTTP request sent, awaiting response... 200 OK\n",
      "Length: 4899605 (4.7M) [application/x-zip-compressed]\n",
      "Saving to: ‘/Users/lee/Documents/projects_code/geo_mozambique/data/shapes/ne_10m_admin_0_countries.zip.1’\n",
      "\n",
      "     0K .......... .......... .......... .......... ..........  1%  313K 15s\n",
      "    50K .......... .......... .......... .......... ..........  2%  657K 11s\n",
      "   100K .......... .......... .......... .......... ..........  3% 6.77M 8s\n",
      "   150K .......... .......... .......... .......... ..........  4% 5.30M 6s\n",
      "   200K .......... .......... .......... .......... ..........  5%  719K 6s\n",
      "   250K .......... .......... .......... .......... ..........  6% 8.62M 5s\n",
      "   300K .......... .......... .......... .......... ..........  7%  745K 5s\n",
      "   350K .......... .......... .......... .......... ..........  8% 8.60M 4s\n",
      "   400K .......... .......... .......... .......... ..........  9% 7.68M 4s\n",
      "   450K .......... .......... .......... .......... .......... 10% 8.67M 4s\n",
      "   500K .......... .......... .......... .......... .......... 11%  843K 4s\n",
      "   550K .......... .......... .......... .......... .......... 12% 6.28M 3s\n",
      "   600K .......... .......... .......... .......... .......... 13% 4.40M 3s\n",
      "   650K .......... .......... .......... .......... .......... 14% 9.78M 3s\n",
      "   700K .......... .......... .......... .......... .......... 15% 8.94M 3s\n",
      "   750K .......... .......... .......... .......... .......... 16% 1002K 3s\n",
      "   800K .......... .......... .......... .......... .......... 17% 11.2M 3s\n",
      "   850K .......... .......... .......... .......... .......... 18% 8.36M 2s\n",
      "   900K .......... .......... .......... .......... .......... 19% 6.96M 2s\n",
      "   950K .......... .......... .......... .......... .......... 20% 10.1M 2s\n",
      "  1000K .......... .......... .......... .......... .......... 21% 8.68M 2s\n",
      "  1050K .......... .......... .......... .......... .......... 22% 7.51M 2s\n",
      "  1100K .......... .......... .......... .......... .......... 24% 10.2M 2s\n",
      "  1150K .......... .......... .......... .......... .......... 25% 8.17M 2s\n",
      "  1200K .......... .......... .......... .......... .......... 26% 1.37M 2s\n",
      "  1250K .......... .......... .......... .......... .......... 27% 9.34M 2s\n",
      "  1300K .......... .......... .......... .......... .......... 28% 7.46M 2s\n",
      "  1350K .......... .......... .......... .......... .......... 29% 4.00M 2s\n",
      "  1400K .......... .......... .......... .......... .......... 30% 8.00M 2s\n",
      "  1450K .......... .......... .......... .......... .......... 31% 8.73M 1s\n",
      "  1500K .......... .......... .......... .......... .......... 32% 9.46M 1s\n",
      "  1550K .......... .......... .......... .......... .......... 33% 8.12M 1s\n",
      "  1600K .......... .......... .......... .......... .......... 34%  196K 2s\n",
      "  1650K .......... .......... .......... .......... .......... 35% 34.2M 2s\n",
      "  1700K .......... .......... .......... .......... .......... 36% 40.3M 2s\n",
      "  1750K .......... .......... .......... .......... .......... 37% 44.1M 2s\n",
      "  1800K .......... .......... .......... .......... .......... 38% 73.3M 1s\n",
      "  1850K .......... .......... .......... .......... .......... 39% 79.8M 1s\n",
      "  1900K .......... .......... .......... .......... .......... 40% 50.9M 1s\n",
      "  1950K .......... .......... .......... .......... .......... 41% 60.7M 1s\n",
      "  2000K .......... .......... .......... .......... .......... 42%  626K 1s\n",
      "  2050K .......... .......... .......... .......... .......... 43% 8.67M 1s\n",
      "  2100K .......... .......... .......... .......... .......... 44% 8.97M 1s\n",
      "  2150K .......... .......... .......... .......... .......... 45% 7.10M 1s\n",
      "  2200K .......... .......... .......... .......... .......... 47% 8.73M 1s\n",
      "  2250K .......... .......... .......... .......... .......... 48% 9.50M 1s\n",
      "  2300K .......... .......... .......... .......... .......... 49% 8.85M 1s\n",
      "  2350K .......... .......... .......... .......... .......... 50% 7.66M 1s\n",
      "  2400K .......... .......... .......... .......... .......... 51%  179K 1s\n",
      "  2450K .......... .......... .......... .......... .......... 52% 42.9M 1s\n",
      "  2500K .......... .......... .......... .......... .......... 53% 36.6M 1s\n",
      "  2550K .......... .......... .......... .......... .......... 54% 50.1M 1s\n",
      "  2600K .......... .......... .......... .......... .......... 55% 58.6M 1s\n",
      "  2650K .......... .......... .......... .......... .......... 56% 64.2M 1s\n",
      "  2700K .......... .......... .......... .......... .......... 57% 29.5M 1s\n",
      "  2750K .......... .......... .......... .......... .......... 58% 74.9M 1s\n",
      "  2800K .......... .......... .......... .......... .......... 59%  642K 1s\n",
      "  2850K .......... .......... .......... .......... .......... 60% 9.51M 1s\n",
      "  2900K .......... .......... .......... .......... .......... 61% 7.36M 1s\n",
      "  2950K .......... .......... .......... .......... .......... 62% 8.93M 1s\n",
      "  3000K .......... .......... .......... .......... .......... 63% 6.24M 1s\n",
      "  3050K .......... .......... .......... .......... .......... 64% 13.0M 1s\n",
      "  3100K .......... .......... .......... .......... .......... 65% 9.79M 1s\n",
      "  3150K .......... .......... .......... .......... .......... 66% 7.81M 1s\n",
      "  3200K .......... .......... .......... .......... .......... 67% 8.83M 1s\n",
      "  3250K .......... .......... .......... .......... .......... 68%  177K 1s\n",
      "  3300K .......... .......... .......... .......... .......... 70% 43.9M 1s\n",
      "  3350K .......... .......... .......... .......... .......... 71% 41.8M 1s\n",
      "  3400K .......... .......... .......... .......... .......... 72% 52.2M 1s\n",
      "  3450K .......... .......... .......... .......... .......... 73% 85.1M 1s\n",
      "  3500K .......... .......... .......... .......... .......... 74% 73.3M 1s\n",
      "  3550K .......... .......... .......... .......... .......... 75% 44.7M 1s\n",
      "  3600K .......... .......... .......... .......... .......... 76% 63.8M 1s\n",
      "  3650K .......... .......... .......... .......... .......... 77%  661K 1s\n",
      "  3700K .......... .......... .......... .......... .......... 78% 7.70M 1s\n",
      "  3750K .......... .......... .......... .......... .......... 79% 7.49M 0s\n",
      "  3800K .......... .......... .......... .......... .......... 80% 7.53M 0s\n",
      "  3850K .......... .......... .......... .......... .......... 81% 7.20M 0s\n",
      "  3900K .......... .......... .......... .......... .......... 82% 7.87M 0s\n",
      "  3950K .......... .......... .......... .......... .......... 83% 8.21M 0s\n",
      "  4000K .......... .......... .......... .......... .......... 84%  137K 0s\n",
      "  4050K .......... .......... .......... .......... .......... 85%  315K 0s\n",
      "  4100K .......... .......... .......... .......... .......... 86% 7.83M 0s\n",
      "  4150K .......... .......... .......... .......... .......... 87% 7.43M 0s\n",
      "  4200K .......... .......... .......... .......... .......... 88% 10.7M 0s\n",
      "  4250K .......... .......... .......... .......... .......... 89% 6.44M 0s\n",
      "  4300K .......... .......... .......... .......... .......... 90% 9.80M 0s\n",
      "  4350K .......... .......... .......... .......... .......... 91% 8.04M 0s\n",
      "  4400K .......... .......... .......... .......... .......... 93% 8.29M 0s\n",
      "  4450K .......... .......... .......... .......... .......... 94% 10.9M 0s\n",
      "  4500K .......... .......... .......... .......... .......... 95% 1.35M 0s\n",
      "  4550K .......... .......... .......... .......... .......... 96% 4.80M 0s\n",
      "  4600K .......... .......... .......... .......... .......... 97% 8.09M 0s\n",
      "  4650K .......... .......... .......... .......... .......... 98% 7.25M 0s\n",
      "  4700K .......... .......... .......... .......... .......... 99% 7.02M 0s\n",
      "  4750K .......... .......... .......... ....                 100% 7.64M=2.5s\n",
      "\n",
      "2019-09-16 21:26:21 (1.86 MB/s) - ‘/Users/lee/Documents/projects_code/geo_mozambique/data/shapes/ne_10m_admin_0_countries.zip.1’ saved [4899605/4899605]\n",
      "\n"
     ]
    }
   ],
   "source": [
    "%%bash \n",
    "# in terminal, download and unzip 10m country boundaries shapes from Natural Earth #TODO (Lee) - format long url\n",
    "wget https://www.naturalearthdata.com/http//www.naturalearthdata.com/download/10m/cultural/ne_10m_admin_0_countries.zip -P ~/Documents/projects_code/geo_mozambique/data/shapes/\n",
    "unzip ~/Documents/projects_code/geo_mozambique/data/shapes/ne_10m_admin_0_countries.zip -d ~/Documents/projects_code/geo_mozambique/data/shapes/"
   ]
  },
  {
   "cell_type": "markdown",
   "metadata": {},
   "source": []
  },
  {
   "cell_type": "code",
   "execution_count": 21,
   "metadata": {},
   "outputs": [],
   "source": [
    "shapes = '/Users/lee/Documents/projects_code/geo_mozambique/data/shapes/ne_10m_admin_0_countries.shp'\n",
    "gdf = gpd.read_file(shapes)"
   ]
  },
  {
   "cell_type": "code",
   "execution_count": 29,
   "metadata": {},
   "outputs": [
    {
     "data": {
      "text/html": [
       "<div>\n",
       "<style scoped>\n",
       "    .dataframe tbody tr th:only-of-type {\n",
       "        vertical-align: middle;\n",
       "    }\n",
       "\n",
       "    .dataframe tbody tr th {\n",
       "        vertical-align: top;\n",
       "    }\n",
       "\n",
       "    .dataframe thead th {\n",
       "        text-align: right;\n",
       "    }\n",
       "</style>\n",
       "<table border=\"1\" class=\"dataframe\">\n",
       "  <thead>\n",
       "    <tr style=\"text-align: right;\">\n",
       "      <th></th>\n",
       "      <th>featurecla</th>\n",
       "      <th>scalerank</th>\n",
       "      <th>LABELRANK</th>\n",
       "      <th>SOVEREIGNT</th>\n",
       "      <th>SOV_A3</th>\n",
       "      <th>ADM0_DIF</th>\n",
       "      <th>LEVEL</th>\n",
       "      <th>TYPE</th>\n",
       "      <th>ADMIN</th>\n",
       "      <th>ADM0_A3</th>\n",
       "      <th>...</th>\n",
       "      <th>NAME_KO</th>\n",
       "      <th>NAME_NL</th>\n",
       "      <th>NAME_PL</th>\n",
       "      <th>NAME_PT</th>\n",
       "      <th>NAME_RU</th>\n",
       "      <th>NAME_SV</th>\n",
       "      <th>NAME_TR</th>\n",
       "      <th>NAME_VI</th>\n",
       "      <th>NAME_ZH</th>\n",
       "      <th>geometry</th>\n",
       "    </tr>\n",
       "  </thead>\n",
       "  <tbody>\n",
       "    <tr>\n",
       "      <td>0</td>\n",
       "      <td>Admin-0 country</td>\n",
       "      <td>5</td>\n",
       "      <td>2</td>\n",
       "      <td>Indonesia</td>\n",
       "      <td>IDN</td>\n",
       "      <td>0</td>\n",
       "      <td>2</td>\n",
       "      <td>Sovereign country</td>\n",
       "      <td>Indonesia</td>\n",
       "      <td>IDN</td>\n",
       "      <td>...</td>\n",
       "      <td>인도네시아</td>\n",
       "      <td>Indonesië</td>\n",
       "      <td>Indonezja</td>\n",
       "      <td>Indonésia</td>\n",
       "      <td>Индонезия</td>\n",
       "      <td>Indonesien</td>\n",
       "      <td>Endonezya</td>\n",
       "      <td>Indonesia</td>\n",
       "      <td>印度尼西亚</td>\n",
       "      <td>(POLYGON ((117.7036079039552 4.163414542001791...</td>\n",
       "    </tr>\n",
       "    <tr>\n",
       "      <td>1</td>\n",
       "      <td>Admin-0 country</td>\n",
       "      <td>5</td>\n",
       "      <td>3</td>\n",
       "      <td>Malaysia</td>\n",
       "      <td>MYS</td>\n",
       "      <td>0</td>\n",
       "      <td>2</td>\n",
       "      <td>Sovereign country</td>\n",
       "      <td>Malaysia</td>\n",
       "      <td>MYS</td>\n",
       "      <td>...</td>\n",
       "      <td>말레이시아</td>\n",
       "      <td>Maleisië</td>\n",
       "      <td>Malezja</td>\n",
       "      <td>Malásia</td>\n",
       "      <td>Малайзия</td>\n",
       "      <td>Malaysia</td>\n",
       "      <td>Malezya</td>\n",
       "      <td>Malaysia</td>\n",
       "      <td>马来西亚</td>\n",
       "      <td>(POLYGON ((117.7036079039552 4.163414542001791...</td>\n",
       "    </tr>\n",
       "    <tr>\n",
       "      <td>2</td>\n",
       "      <td>Admin-0 country</td>\n",
       "      <td>6</td>\n",
       "      <td>2</td>\n",
       "      <td>Chile</td>\n",
       "      <td>CHL</td>\n",
       "      <td>0</td>\n",
       "      <td>2</td>\n",
       "      <td>Sovereign country</td>\n",
       "      <td>Chile</td>\n",
       "      <td>CHL</td>\n",
       "      <td>...</td>\n",
       "      <td>칠레</td>\n",
       "      <td>Chili</td>\n",
       "      <td>Chile</td>\n",
       "      <td>Chile</td>\n",
       "      <td>Чили</td>\n",
       "      <td>Chile</td>\n",
       "      <td>Şili</td>\n",
       "      <td>Chile</td>\n",
       "      <td>智利</td>\n",
       "      <td>(POLYGON ((-69.51008875199994 -17.506588197999...</td>\n",
       "    </tr>\n",
       "  </tbody>\n",
       "</table>\n",
       "<p>3 rows × 95 columns</p>\n",
       "</div>"
      ],
      "text/plain": [
       "        featurecla  scalerank  LABELRANK SOVEREIGNT SOV_A3  ADM0_DIF  LEVEL  \\\n",
       "0  Admin-0 country          5          2  Indonesia    IDN         0      2   \n",
       "1  Admin-0 country          5          3   Malaysia    MYS         0      2   \n",
       "2  Admin-0 country          6          2      Chile    CHL         0      2   \n",
       "\n",
       "                TYPE      ADMIN ADM0_A3  ...  NAME_KO    NAME_NL    NAME_PL  \\\n",
       "0  Sovereign country  Indonesia     IDN  ...    인도네시아  Indonesië  Indonezja   \n",
       "1  Sovereign country   Malaysia     MYS  ...    말레이시아   Maleisië    Malezja   \n",
       "2  Sovereign country      Chile     CHL  ...       칠레      Chili      Chile   \n",
       "\n",
       "     NAME_PT    NAME_RU     NAME_SV    NAME_TR    NAME_VI NAME_ZH  \\\n",
       "0  Indonésia  Индонезия  Indonesien  Endonezya  Indonesia   印度尼西亚   \n",
       "1    Malásia   Малайзия    Malaysia    Malezya   Malaysia    马来西亚   \n",
       "2      Chile       Чили       Chile       Şili      Chile      智利   \n",
       "\n",
       "                                            geometry  \n",
       "0  (POLYGON ((117.7036079039552 4.163414542001791...  \n",
       "1  (POLYGON ((117.7036079039552 4.163414542001791...  \n",
       "2  (POLYGON ((-69.51008875199994 -17.506588197999...  \n",
       "\n",
       "[3 rows x 95 columns]"
      ]
     },
     "execution_count": 29,
     "metadata": {},
     "output_type": "execute_result"
    }
   ],
   "source": [
    "# inspect geopandas dataframe\n",
    "gdf.head(3)"
   ]
  },
  {
   "cell_type": "code",
   "execution_count": 28,
   "metadata": {},
   "outputs": [],
   "source": [
    "# subset shape file to only include country borders of Mozambique\n",
    "gdf_mozambique = gdf[gdf['ADMIN']=='Mozambique']"
   ]
  },
  {
   "cell_type": "code",
   "execution_count": 32,
   "metadata": {},
   "outputs": [
    {
     "data": {
      "text/plain": [
       "<matplotlib.axes._subplots.AxesSubplot at 0x12d40de48>"
      ]
     },
     "execution_count": 32,
     "metadata": {},
     "output_type": "execute_result"
    },
    {
     "data": {
      "image/png": "[encoded data removed]",
      "text/plain": [
       "<Figure size 432x288 with 1 Axes>"
      ]
     },
     "metadata": {
      "needs_background": "light"
     },
     "output_type": "display_data"
    }
   ],
   "source": [
    "# plot Mozambique shape file\n",
    "gdf_mozambique.plot()"
   ]
  },
  {
   "cell_type": "markdown",
   "metadata": {},
   "source": [
    "#### Open file"
   ]
  },
  {
   "cell_type": "code",
   "execution_count": null,
   "metadata": {},
   "outputs": [],
   "source": [
    "with rasterio.open('<filename>', 'w',\n",
    "                    driver='GTiff',\n",
    "                    height=Z.shape[0],\n",
    "                    width=Z.shape[0],\n",
    "                    count=1,\n",
    "                    dtype=Z.dtype,\n",
    "                    crs='proj=latlong', # this is a \"proj4\" string defining the projection\n",
    "                    transform=transform,\n",
    "                    ) as dst:\n",
    "    dst.write(Z, 1)"
   ]
  },
  {
   "cell_type": "markdown",
   "metadata": {},
   "source": [
    "### Make raster using shapefile"
   ]
  },
  {
   "cell_type": "code",
   "execution_count": null,
   "metadata": {},
   "outputs": [],
   "source": [
    "with fiona.open(\"tests/data/box.shp\", \"r\") as shapefile:\n",
    "    features = [feature[\"geometry\"] for feature in shapefile]"
   ]
  }
 ],
 "metadata": {
  "kernelspec": {
   "display_name": "Python 3",
   "language": "python",
   "name": "python3"
  },
  "language_info": {
   "codemirror_mode": {
    "name": "ipython",
    "version": 3
   },
   "file_extension": ".py",
   "mimetype": "text/x-python",
   "name": "python",
   "nbconvert_exporter": "python",
   "pygments_lexer": "ipython3",
   "version": "3.7.3"
  }
 },
 "nbformat": 4,
 "nbformat_minor": 2
}
