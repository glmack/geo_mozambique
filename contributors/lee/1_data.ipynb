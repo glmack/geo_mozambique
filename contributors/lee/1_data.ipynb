{
 "cells": [
  {
   "cell_type": "markdown",
   "metadata": {},
   "source": [
    "## geo_mozambique_1"
   ]
  },
  {
   "cell_type": "code",
   "execution_count": 18,
   "metadata": {},
   "outputs": [],
   "source": [
    "import geopandas as gpd\n",
    "import matplotlib.pyplot as plt\n",
    "\n",
    "import earthpy as et\n",
    "import earthpy.plot as ep\n",
    "import earthpy.spatial as es\n",
    "\n",
    "import osmnx as ox\n",
    "\n",
    "import fiona\n",
    "\n",
    "import rasterio as rio\n",
    "from rasterio.plot import show\n",
    "from rasterio.mask import mask\n",
    "\n",
    "import cartopy as cp\n",
    "from shapely.geometry import mapping\n",
    "from pathlib import Path"
   ]
  },
  {
   "cell_type": "markdown",
   "metadata": {},
   "source": [
    "### Data understanding"
   ]
  },
  {
   "cell_type": "markdown",
   "metadata": {},
   "source": [
    "#### Download shapefiles"
   ]
  },
  {
   "cell_type": "code",
   "execution_count": 2,
   "metadata": {},
   "outputs": [
    {
     "name": "stdout",
     "output_type": "stream",
     "text": [
      "Archive:  /Users/lee/Documents/projects_code/geo_mozambique/data/shapes/ne_10m_admin_0_countries.zip\n"
     ]
    },
    {
     "name": "stderr",
     "output_type": "stream",
     "text": [
      "--2019-09-17 19:53:19--  https://www.naturalearthdata.com/http//www.naturalearthdata.com/download/10m/cultural/ne_10m_admin_0_countries.zip\n",
      "Resolving www.naturalearthdata.com (www.naturalearthdata.com)... 66.147.242.194\n",
      "Connecting to www.naturalearthdata.com (www.naturalearthdata.com)|66.147.242.194|:443... connected.\n",
      "HTTP request sent, awaiting response... 302 Moved Temporarily\n",
      "Location: http://naciscdn.org/naturalearth/10m/cultural/ne_10m_admin_0_countries.zip [following]\n",
      "--2019-09-17 19:53:20--  http://naciscdn.org/naturalearth/10m/cultural/ne_10m_admin_0_countries.zip\n",
      "Resolving naciscdn.org (naciscdn.org)... 146.201.97.163\n",
      "Connecting to naciscdn.org (naciscdn.org)|146.201.97.163|:80... connected.\n",
      "HTTP request sent, awaiting response... 301 Moved Permanently\n",
      "Location: https://naciscdn.org/naturalearth/10m/cultural/ne_10m_admin_0_countries.zip [following]\n",
      "--2019-09-17 19:53:20--  https://naciscdn.org/naturalearth/10m/cultural/ne_10m_admin_0_countries.zip\n",
      "Connecting to naciscdn.org (naciscdn.org)|146.201.97.163|:443... connected.\n",
      "HTTP request sent, awaiting response... 200 OK\n",
      "Length: 4899605 (4.7M) [application/x-zip-compressed]\n",
      "Saving to: ‘/Users/lee/Documents/projects_code/geo_mozambique/data/shapes/ne_10m_admin_0_countries.zip.2’\n",
      "\n",
      "     0K .......... .......... .......... .......... ..........  1%  305K 16s\n",
      "    50K .......... .......... .......... .......... ..........  2%  599K 12s\n",
      "   100K .......... .......... .......... .......... ..........  3% 9.80M 8s\n",
      "   150K .......... .......... .......... .......... ..........  4% 7.08M 6s\n",
      "   200K .......... .......... .......... .......... ..........  5%  701K 6s\n",
      "   250K .......... .......... .......... .......... ..........  6% 6.56M 5s\n",
      "   300K .......... .......... .......... .......... ..........  7%  753K 5s\n",
      "   350K .......... .......... .......... .......... ..........  8% 8.83M 4s\n",
      "   400K .......... .......... .......... .......... ..........  9% 9.44M 4s\n",
      "   450K .......... .......... .......... .......... .......... 10% 7.91M 4s\n",
      "   500K .......... .......... .......... .......... .......... 11% 7.59M 3s\n",
      "   550K .......... .......... .......... .......... .......... 12%  703K 3s\n",
      "   600K .......... .......... .......... .......... .......... 13% 9.79M 3s\n",
      "   650K .......... .......... .......... .......... .......... 14% 9.15M 3s\n",
      "   700K .......... .......... .......... .......... .......... 15% 8.48M 3s\n",
      "   750K .......... .......... .......... .......... .......... 16%  861K 3s\n",
      "   800K .......... .......... .......... .......... .......... 17% 9.16M 3s\n",
      "   850K .......... .......... .......... .......... .......... 18% 8.82M 3s\n",
      "   900K .......... .......... .......... .......... .......... 19% 8.18M 2s\n",
      "   950K .......... .......... .......... .......... .......... 20% 7.86M 2s\n",
      "  1000K .......... .......... .......... .......... .......... 21% 8.12M 2s\n",
      "  1050K .......... .......... .......... .......... .......... 22% 7.84M 2s\n",
      "  1100K .......... .......... .......... .......... .......... 24% 9.62M 2s\n",
      "  1150K .......... .......... .......... .......... .......... 25% 1.22M 2s\n",
      "  1200K .......... .......... .......... .......... .......... 26% 12.1M 2s\n",
      "  1250K .......... .......... .......... .......... .......... 27% 7.98M 2s\n",
      "  1300K .......... .......... .......... .......... .......... 28% 6.58M 2s\n",
      "  1350K .......... .......... .......... .......... .......... 29%  368K 2s\n",
      "  1400K .......... .......... .......... .......... .......... 30% 8.16M 2s\n",
      "  1450K .......... .......... .......... .......... .......... 31% 7.36M 2s\n",
      "  1500K .......... .......... .......... .......... .......... 32% 10.0M 2s\n",
      "  1550K .......... .......... .......... .......... .......... 33% 7.92M 2s\n",
      "  1600K .......... .......... .......... .......... .......... 34% 9.74M 2s\n",
      "  1650K .......... .......... .......... .......... .......... 35%  293K 2s\n",
      "  1700K .......... .......... .......... .......... .......... 36% 7.93M 2s\n",
      "  1750K .......... .......... .......... .......... .......... 37% 7.76M 2s\n",
      "  1800K .......... .......... .......... .......... .......... 38% 9.46M 2s\n",
      "  1850K .......... .......... .......... .......... .......... 39% 8.69M 2s\n",
      "  1900K .......... .......... .......... .......... .......... 40% 8.81M 2s\n",
      "  1950K .......... .......... .......... .......... .......... 41%  269K 2s\n",
      "  2000K .......... .......... .......... .......... .......... 42% 8.39M 2s\n",
      "  2050K .......... .......... .......... .......... .......... 43% 6.66M 2s\n",
      "  2100K .......... .......... .......... .......... .......... 44% 7.81M 2s\n",
      "  2150K .......... .......... .......... .......... .......... 45% 5.77M 1s\n",
      "  2200K .......... .......... .......... .......... .......... 47%  390K 2s\n",
      "  2250K .......... .......... .......... .......... .......... 48%  467K 2s\n",
      "  2300K .......... .......... .......... .......... .......... 49%  384K 2s\n",
      "  2350K .......... .......... .......... .......... .......... 50% 4.09M 2s\n",
      "  2400K .......... .......... .......... .......... .......... 51% 9.91M 2s\n",
      "  2450K .......... .......... .......... .......... .......... 52% 7.32M 1s\n",
      "  2500K .......... .......... .......... .......... .......... 53% 8.37M 1s\n",
      "  2550K .......... .......... .......... .......... .......... 54% 8.94M 1s\n",
      "  2600K .......... .......... .......... .......... .......... 55% 8.48M 1s\n",
      "  2650K .......... .......... .......... .......... .......... 56%  881K 1s\n",
      "  2700K .......... .......... .......... .......... .......... 57% 21.9M 1s\n",
      "  2750K .......... .......... .......... .......... .......... 58% 11.7M 1s\n",
      "  2800K .......... .......... .......... .......... .......... 59% 5.64M 1s\n",
      "  2850K .......... .......... .......... .......... .......... 60% 9.55M 1s\n",
      "  2900K .......... .......... .......... .......... .......... 61% 7.39M 1s\n",
      "  2950K .......... .......... .......... .......... .......... 62%  603K 1s\n",
      "  3000K .......... .......... .......... .......... .......... 63% 9.16M 1s\n",
      "  3050K .......... .......... .......... .......... .......... 64% 9.47M 1s\n",
      "  3100K .......... .......... .......... .......... .......... 65% 6.77M 1s\n",
      "  3150K .......... .......... .......... .......... .......... 66% 9.38M 1s\n",
      "  3200K .......... .......... .......... .......... .......... 67% 8.93M 1s\n",
      "  3250K .......... .......... .......... .......... .......... 68% 1.03M 1s\n",
      "  3300K .......... .......... .......... .......... .......... 70%  390K 1s\n",
      "  3350K .......... .......... .......... .......... .......... 71% 8.43M 1s\n",
      "  3400K .......... .......... .......... .......... .......... 72% 8.44M 1s\n",
      "  3450K .......... .......... .......... .......... .......... 73% 7.18M 1s\n",
      "  3500K .......... .......... .......... .......... .......... 74% 10.8M 1s\n",
      "  3550K .......... .......... .......... .......... .......... 75% 8.56M 1s\n",
      "  3600K .......... .......... .......... .......... .......... 76%  291K 1s\n",
      "  3650K .......... .......... .......... .......... .......... 77% 7.76M 1s\n",
      "  3700K .......... .......... .......... .......... .......... 78% 9.25M 1s\n",
      "  3750K .......... .......... .......... .......... .......... 79% 8.64M 1s\n",
      "  3800K .......... .......... .......... .......... .......... 80% 7.81M 1s\n",
      "  3850K .......... .......... .......... .......... .......... 81% 9.19M 1s\n",
      "  3900K .......... .......... .......... .......... .......... 82% 1.01M 0s\n",
      "  3950K .......... .......... .......... .......... .......... 83%  382K 0s\n",
      "  4000K .......... .......... .......... .......... .......... 84% 8.87M 0s\n",
      "  4050K .......... .......... .......... .......... .......... 85% 9.50M 0s\n",
      "  4100K .......... .......... .......... .......... .......... 86% 8.05M 0s\n",
      "  4150K .......... .......... .......... .......... .......... 87% 10.2M 0s\n",
      "  4200K .......... .......... .......... .......... .......... 88% 7.82M 0s\n",
      "  4250K .......... .......... .......... .......... .......... 89%  292K 0s\n",
      "  4300K .......... .......... .......... .......... .......... 90% 8.66M 0s\n",
      "  4350K .......... .......... .......... .......... .......... 91% 8.08M 0s\n",
      "  4400K .......... .......... .......... .......... .......... 93% 9.82M 0s\n",
      "  4450K .......... .......... .......... .......... .......... 94% 7.73M 0s\n",
      "  4500K .......... .......... .......... .......... .......... 95% 7.28M 0s\n",
      "  4550K .......... .......... .......... .......... .......... 96%  294K 0s\n",
      "  4600K .......... .......... .......... .......... .......... 97% 9.31M 0s\n",
      "  4650K .......... .......... .......... .......... .......... 98% 7.70M 0s\n",
      "  4700K .......... .......... .......... .......... .......... 99% 9.62M 0s\n",
      "  4750K .......... .......... .......... ....                 100% 9.46M=2.9s\n",
      "\n",
      "2019-09-17 19:53:23 (1.64 MB/s) - ‘/Users/lee/Documents/projects_code/geo_mozambique/data/shapes/ne_10m_admin_0_countries.zip.2’ saved [4899605/4899605]\n",
      "\n",
      "replace /Users/lee/Documents/projects_code/geo_mozambique/data/shapes/ne_10m_admin_0_countries.README.html? [y]es, [n]o, [A]ll, [N]one, [r]ename:  NULL\n",
      "(EOF or read error, treating as \"[N]one\" ...)\n"
     ]
    },
    {
     "ename": "CalledProcessError",
     "evalue": "Command 'b'# in terminal, download and unzip 10m country boundaries shapes from Natural Earth #TODO (Lee) - format long url\\nwget https://www.naturalearthdata.com/http//www.naturalearthdata.com/download/10m/cultural/ne_10m_admin_0_countries.zip -P ~/Documents/projects_code/geo_mozambique/data/shapes/\\nunzip ~/Documents/projects_code/geo_mozambique/data/shapes/ne_10m_admin_0_countries.zip -d ~/Documents/projects_code/geo_mozambique/data/shapes/\\n'' returned non-zero exit status 1.",
     "output_type": "error",
     "traceback": [
      "\u001b[0;31m---------------------------------------------------------------------------\u001b[0m",
      "\u001b[0;31mCalledProcessError\u001b[0m                        Traceback (most recent call last)",
      "\u001b[0;32m<ipython-input-2-64ea2c21338d>\u001b[0m in \u001b[0;36m<module>\u001b[0;34m\u001b[0m\n\u001b[0;32m----> 1\u001b[0;31m \u001b[0mget_ipython\u001b[0m\u001b[0;34m(\u001b[0m\u001b[0;34m)\u001b[0m\u001b[0;34m.\u001b[0m\u001b[0mrun_cell_magic\u001b[0m\u001b[0;34m(\u001b[0m\u001b[0;34m'bash'\u001b[0m\u001b[0;34m,\u001b[0m \u001b[0;34m''\u001b[0m\u001b[0;34m,\u001b[0m \u001b[0;34m'# in terminal, download and unzip 10m country boundaries shapes from Natural Earth #TODO (Lee) - format long url\\nwget https://www.naturalearthdata.com/http//www.naturalearthdata.com/download/10m/cultural/ne_10m_admin_0_countries.zip -P ~/Documents/projects_code/geo_mozambique/data/shapes/\\nunzip ~/Documents/projects_code/geo_mozambique/data/shapes/ne_10m_admin_0_countries.zip -d ~/Documents/projects_code/geo_mozambique/data/shapes/\\n'\u001b[0m\u001b[0;34m)\u001b[0m\u001b[0;34m\u001b[0m\u001b[0;34m\u001b[0m\u001b[0m\n\u001b[0m",
      "\u001b[0;32m/anaconda3/envs/geo/lib/python3.7/site-packages/IPython/core/interactiveshell.py\u001b[0m in \u001b[0;36mrun_cell_magic\u001b[0;34m(self, magic_name, line, cell)\u001b[0m\n\u001b[1;32m   2357\u001b[0m             \u001b[0;32mwith\u001b[0m \u001b[0mself\u001b[0m\u001b[0;34m.\u001b[0m\u001b[0mbuiltin_trap\u001b[0m\u001b[0;34m:\u001b[0m\u001b[0;34m\u001b[0m\u001b[0;34m\u001b[0m\u001b[0m\n\u001b[1;32m   2358\u001b[0m                 \u001b[0margs\u001b[0m \u001b[0;34m=\u001b[0m \u001b[0;34m(\u001b[0m\u001b[0mmagic_arg_s\u001b[0m\u001b[0;34m,\u001b[0m \u001b[0mcell\u001b[0m\u001b[0;34m)\u001b[0m\u001b[0;34m\u001b[0m\u001b[0;34m\u001b[0m\u001b[0m\n\u001b[0;32m-> 2359\u001b[0;31m                 \u001b[0mresult\u001b[0m \u001b[0;34m=\u001b[0m \u001b[0mfn\u001b[0m\u001b[0;34m(\u001b[0m\u001b[0;34m*\u001b[0m\u001b[0margs\u001b[0m\u001b[0;34m,\u001b[0m \u001b[0;34m**\u001b[0m\u001b[0mkwargs\u001b[0m\u001b[0;34m)\u001b[0m\u001b[0;34m\u001b[0m\u001b[0;34m\u001b[0m\u001b[0m\n\u001b[0m\u001b[1;32m   2360\u001b[0m             \u001b[0;32mreturn\u001b[0m \u001b[0mresult\u001b[0m\u001b[0;34m\u001b[0m\u001b[0;34m\u001b[0m\u001b[0m\n\u001b[1;32m   2361\u001b[0m \u001b[0;34m\u001b[0m\u001b[0m\n",
      "\u001b[0;32m/anaconda3/envs/geo/lib/python3.7/site-packages/IPython/core/magics/script.py\u001b[0m in \u001b[0;36mnamed_script_magic\u001b[0;34m(line, cell)\u001b[0m\n\u001b[1;32m    140\u001b[0m             \u001b[0;32melse\u001b[0m\u001b[0;34m:\u001b[0m\u001b[0;34m\u001b[0m\u001b[0;34m\u001b[0m\u001b[0m\n\u001b[1;32m    141\u001b[0m                 \u001b[0mline\u001b[0m \u001b[0;34m=\u001b[0m \u001b[0mscript\u001b[0m\u001b[0;34m\u001b[0m\u001b[0;34m\u001b[0m\u001b[0m\n\u001b[0;32m--> 142\u001b[0;31m             \u001b[0;32mreturn\u001b[0m \u001b[0mself\u001b[0m\u001b[0;34m.\u001b[0m\u001b[0mshebang\u001b[0m\u001b[0;34m(\u001b[0m\u001b[0mline\u001b[0m\u001b[0;34m,\u001b[0m \u001b[0mcell\u001b[0m\u001b[0;34m)\u001b[0m\u001b[0;34m\u001b[0m\u001b[0;34m\u001b[0m\u001b[0m\n\u001b[0m\u001b[1;32m    143\u001b[0m \u001b[0;34m\u001b[0m\u001b[0m\n\u001b[1;32m    144\u001b[0m         \u001b[0;31m# write a basic docstring:\u001b[0m\u001b[0;34m\u001b[0m\u001b[0;34m\u001b[0m\u001b[0;34m\u001b[0m\u001b[0m\n",
      "\u001b[0;32m</anaconda3/envs/geo/lib/python3.7/site-packages/decorator.py:decorator-gen-110>\u001b[0m in \u001b[0;36mshebang\u001b[0;34m(self, line, cell)\u001b[0m\n",
      "\u001b[0;32m/anaconda3/envs/geo/lib/python3.7/site-packages/IPython/core/magic.py\u001b[0m in \u001b[0;36m<lambda>\u001b[0;34m(f, *a, **k)\u001b[0m\n\u001b[1;32m    185\u001b[0m     \u001b[0;31m# but it's overkill for just that one bit of state.\u001b[0m\u001b[0;34m\u001b[0m\u001b[0;34m\u001b[0m\u001b[0;34m\u001b[0m\u001b[0m\n\u001b[1;32m    186\u001b[0m     \u001b[0;32mdef\u001b[0m \u001b[0mmagic_deco\u001b[0m\u001b[0;34m(\u001b[0m\u001b[0marg\u001b[0m\u001b[0;34m)\u001b[0m\u001b[0;34m:\u001b[0m\u001b[0;34m\u001b[0m\u001b[0;34m\u001b[0m\u001b[0m\n\u001b[0;32m--> 187\u001b[0;31m         \u001b[0mcall\u001b[0m \u001b[0;34m=\u001b[0m \u001b[0;32mlambda\u001b[0m \u001b[0mf\u001b[0m\u001b[0;34m,\u001b[0m \u001b[0;34m*\u001b[0m\u001b[0ma\u001b[0m\u001b[0;34m,\u001b[0m \u001b[0;34m**\u001b[0m\u001b[0mk\u001b[0m\u001b[0;34m:\u001b[0m \u001b[0mf\u001b[0m\u001b[0;34m(\u001b[0m\u001b[0;34m*\u001b[0m\u001b[0ma\u001b[0m\u001b[0;34m,\u001b[0m \u001b[0;34m**\u001b[0m\u001b[0mk\u001b[0m\u001b[0;34m)\u001b[0m\u001b[0;34m\u001b[0m\u001b[0;34m\u001b[0m\u001b[0m\n\u001b[0m\u001b[1;32m    188\u001b[0m \u001b[0;34m\u001b[0m\u001b[0m\n\u001b[1;32m    189\u001b[0m         \u001b[0;32mif\u001b[0m \u001b[0mcallable\u001b[0m\u001b[0;34m(\u001b[0m\u001b[0marg\u001b[0m\u001b[0;34m)\u001b[0m\u001b[0;34m:\u001b[0m\u001b[0;34m\u001b[0m\u001b[0;34m\u001b[0m\u001b[0m\n",
      "\u001b[0;32m/anaconda3/envs/geo/lib/python3.7/site-packages/IPython/core/magics/script.py\u001b[0m in \u001b[0;36mshebang\u001b[0;34m(self, line, cell)\u001b[0m\n\u001b[1;32m    243\u001b[0m             \u001b[0msys\u001b[0m\u001b[0;34m.\u001b[0m\u001b[0mstderr\u001b[0m\u001b[0;34m.\u001b[0m\u001b[0mflush\u001b[0m\u001b[0;34m(\u001b[0m\u001b[0;34m)\u001b[0m\u001b[0;34m\u001b[0m\u001b[0;34m\u001b[0m\u001b[0m\n\u001b[1;32m    244\u001b[0m         \u001b[0;32mif\u001b[0m \u001b[0margs\u001b[0m\u001b[0;34m.\u001b[0m\u001b[0mraise_error\u001b[0m \u001b[0;32mand\u001b[0m \u001b[0mp\u001b[0m\u001b[0;34m.\u001b[0m\u001b[0mreturncode\u001b[0m\u001b[0;34m!=\u001b[0m\u001b[0;36m0\u001b[0m\u001b[0;34m:\u001b[0m\u001b[0;34m\u001b[0m\u001b[0;34m\u001b[0m\u001b[0m\n\u001b[0;32m--> 245\u001b[0;31m             \u001b[0;32mraise\u001b[0m \u001b[0mCalledProcessError\u001b[0m\u001b[0;34m(\u001b[0m\u001b[0mp\u001b[0m\u001b[0;34m.\u001b[0m\u001b[0mreturncode\u001b[0m\u001b[0;34m,\u001b[0m \u001b[0mcell\u001b[0m\u001b[0;34m,\u001b[0m \u001b[0moutput\u001b[0m\u001b[0;34m=\u001b[0m\u001b[0mout\u001b[0m\u001b[0;34m,\u001b[0m \u001b[0mstderr\u001b[0m\u001b[0;34m=\u001b[0m\u001b[0merr\u001b[0m\u001b[0;34m)\u001b[0m\u001b[0;34m\u001b[0m\u001b[0;34m\u001b[0m\u001b[0m\n\u001b[0m\u001b[1;32m    246\u001b[0m \u001b[0;34m\u001b[0m\u001b[0m\n\u001b[1;32m    247\u001b[0m     \u001b[0;32mdef\u001b[0m \u001b[0m_run_script\u001b[0m\u001b[0;34m(\u001b[0m\u001b[0mself\u001b[0m\u001b[0;34m,\u001b[0m \u001b[0mp\u001b[0m\u001b[0;34m,\u001b[0m \u001b[0mcell\u001b[0m\u001b[0;34m,\u001b[0m \u001b[0mto_close\u001b[0m\u001b[0;34m)\u001b[0m\u001b[0;34m:\u001b[0m\u001b[0;34m\u001b[0m\u001b[0;34m\u001b[0m\u001b[0m\n",
      "\u001b[0;31mCalledProcessError\u001b[0m: Command 'b'# in terminal, download and unzip 10m country boundaries shapes from Natural Earth #TODO (Lee) - format long url\\nwget https://www.naturalearthdata.com/http//www.naturalearthdata.com/download/10m/cultural/ne_10m_admin_0_countries.zip -P ~/Documents/projects_code/geo_mozambique/data/shapes/\\nunzip ~/Documents/projects_code/geo_mozambique/data/shapes/ne_10m_admin_0_countries.zip -d ~/Documents/projects_code/geo_mozambique/data/shapes/\\n'' returned non-zero exit status 1."
     ]
    }
   ],
   "source": [
    "%%bash \n",
    "# in terminal, download and unzip 10m country boundaries shapes from Natural Earth #TODO (Lee) - format long url\n",
    "wget https://www.naturalearthdata.com/http//www.naturalearthdata.com/download/10m/cultural/ne_10m_admin_0_countries.zip -P ~/Documents/projects_code/geo_mozambique/data/shapes/\n",
    "unzip ~/Documents/projects_code/geo_mozambique/data/shapes/ne_10m_admin_0_countries.zip -d ~/Documents/projects_code/geo_mozambique/data/shapes/"
   ]
  },
  {
   "cell_type": "code",
   "execution_count": null,
   "metadata": {},
   "outputs": [],
   "source": [
    "# specify directory where shapefiles located\n",
    "shapes = '/Users/lee/Documents/projects_code/geo_mozambique/data/shapes/ne_10m_admin_0_countries.shp'"
   ]
  },
  {
   "cell_type": "code",
   "execution_count": 8,
   "metadata": {},
   "outputs": [
    {
     "data": {
      "text/html": [
       "<div>\n",
       "<style scoped>\n",
       "    .dataframe tbody tr th:only-of-type {\n",
       "        vertical-align: middle;\n",
       "    }\n",
       "\n",
       "    .dataframe tbody tr th {\n",
       "        vertical-align: top;\n",
       "    }\n",
       "\n",
       "    .dataframe thead th {\n",
       "        text-align: right;\n",
       "    }\n",
       "</style>\n",
       "<table border=\"1\" class=\"dataframe\">\n",
       "  <thead>\n",
       "    <tr style=\"text-align: right;\">\n",
       "      <th></th>\n",
       "      <th>featurecla</th>\n",
       "      <th>scalerank</th>\n",
       "      <th>LABELRANK</th>\n",
       "      <th>SOVEREIGNT</th>\n",
       "      <th>SOV_A3</th>\n",
       "      <th>ADM0_DIF</th>\n",
       "      <th>LEVEL</th>\n",
       "      <th>TYPE</th>\n",
       "      <th>ADMIN</th>\n",
       "      <th>ADM0_A3</th>\n",
       "      <th>...</th>\n",
       "      <th>NAME_KO</th>\n",
       "      <th>NAME_NL</th>\n",
       "      <th>NAME_PL</th>\n",
       "      <th>NAME_PT</th>\n",
       "      <th>NAME_RU</th>\n",
       "      <th>NAME_SV</th>\n",
       "      <th>NAME_TR</th>\n",
       "      <th>NAME_VI</th>\n",
       "      <th>NAME_ZH</th>\n",
       "      <th>geometry</th>\n",
       "    </tr>\n",
       "  </thead>\n",
       "  <tbody>\n",
       "    <tr>\n",
       "      <td>0</td>\n",
       "      <td>Admin-0 country</td>\n",
       "      <td>5</td>\n",
       "      <td>2</td>\n",
       "      <td>Indonesia</td>\n",
       "      <td>IDN</td>\n",
       "      <td>0</td>\n",
       "      <td>2</td>\n",
       "      <td>Sovereign country</td>\n",
       "      <td>Indonesia</td>\n",
       "      <td>IDN</td>\n",
       "      <td>...</td>\n",
       "      <td>인도네시아</td>\n",
       "      <td>Indonesië</td>\n",
       "      <td>Indonezja</td>\n",
       "      <td>Indonésia</td>\n",
       "      <td>Индонезия</td>\n",
       "      <td>Indonesien</td>\n",
       "      <td>Endonezya</td>\n",
       "      <td>Indonesia</td>\n",
       "      <td>印度尼西亚</td>\n",
       "      <td>(POLYGON ((117.7036079039552 4.163414542001791...</td>\n",
       "    </tr>\n",
       "    <tr>\n",
       "      <td>1</td>\n",
       "      <td>Admin-0 country</td>\n",
       "      <td>5</td>\n",
       "      <td>3</td>\n",
       "      <td>Malaysia</td>\n",
       "      <td>MYS</td>\n",
       "      <td>0</td>\n",
       "      <td>2</td>\n",
       "      <td>Sovereign country</td>\n",
       "      <td>Malaysia</td>\n",
       "      <td>MYS</td>\n",
       "      <td>...</td>\n",
       "      <td>말레이시아</td>\n",
       "      <td>Maleisië</td>\n",
       "      <td>Malezja</td>\n",
       "      <td>Malásia</td>\n",
       "      <td>Малайзия</td>\n",
       "      <td>Malaysia</td>\n",
       "      <td>Malezya</td>\n",
       "      <td>Malaysia</td>\n",
       "      <td>马来西亚</td>\n",
       "      <td>(POLYGON ((117.7036079039552 4.163414542001791...</td>\n",
       "    </tr>\n",
       "    <tr>\n",
       "      <td>2</td>\n",
       "      <td>Admin-0 country</td>\n",
       "      <td>6</td>\n",
       "      <td>2</td>\n",
       "      <td>Chile</td>\n",
       "      <td>CHL</td>\n",
       "      <td>0</td>\n",
       "      <td>2</td>\n",
       "      <td>Sovereign country</td>\n",
       "      <td>Chile</td>\n",
       "      <td>CHL</td>\n",
       "      <td>...</td>\n",
       "      <td>칠레</td>\n",
       "      <td>Chili</td>\n",
       "      <td>Chile</td>\n",
       "      <td>Chile</td>\n",
       "      <td>Чили</td>\n",
       "      <td>Chile</td>\n",
       "      <td>Şili</td>\n",
       "      <td>Chile</td>\n",
       "      <td>智利</td>\n",
       "      <td>(POLYGON ((-69.51008875199994 -17.506588197999...</td>\n",
       "    </tr>\n",
       "  </tbody>\n",
       "</table>\n",
       "<p>3 rows × 95 columns</p>\n",
       "</div>"
      ],
      "text/plain": [
       "        featurecla  scalerank  LABELRANK SOVEREIGNT SOV_A3  ADM0_DIF  LEVEL  \\\n",
       "0  Admin-0 country          5          2  Indonesia    IDN         0      2   \n",
       "1  Admin-0 country          5          3   Malaysia    MYS         0      2   \n",
       "2  Admin-0 country          6          2      Chile    CHL         0      2   \n",
       "\n",
       "                TYPE      ADMIN ADM0_A3  ...  NAME_KO    NAME_NL    NAME_PL  \\\n",
       "0  Sovereign country  Indonesia     IDN  ...    인도네시아  Indonesië  Indonezja   \n",
       "1  Sovereign country   Malaysia     MYS  ...    말레이시아   Maleisië    Malezja   \n",
       "2  Sovereign country      Chile     CHL  ...       칠레      Chili      Chile   \n",
       "\n",
       "     NAME_PT    NAME_RU     NAME_SV    NAME_TR    NAME_VI NAME_ZH  \\\n",
       "0  Indonésia  Индонезия  Indonesien  Endonezya  Indonesia   印度尼西亚   \n",
       "1    Malásia   Малайзия    Malaysia    Malezya   Malaysia    马来西亚   \n",
       "2      Chile       Чили       Chile       Şili      Chile      智利   \n",
       "\n",
       "                                            geometry  \n",
       "0  (POLYGON ((117.7036079039552 4.163414542001791...  \n",
       "1  (POLYGON ((117.7036079039552 4.163414542001791...  \n",
       "2  (POLYGON ((-69.51008875199994 -17.506588197999...  \n",
       "\n",
       "[3 rows x 95 columns]"
      ]
     },
     "execution_count": 8,
     "metadata": {},
     "output_type": "execute_result"
    }
   ],
   "source": [
    "# create geodataframe, a pandas-like tabular data structure that contains a geoseries\n",
    "# geopandas provides python operations that would otherwise require a GIS database\n",
    "gdf = gpd.read_file(shapes)\n",
    "\n",
    "# inspect geopandas dataframe\n",
    "gdf.head(3)"
   ]
  },
  {
   "cell_type": "code",
   "execution_count": 15,
   "metadata": {},
   "outputs": [
    {
     "data": {
      "text/plain": [
       "0    (POLYGON ((117.7036079039552 4.163414542001791...\n",
       "1    (POLYGON ((117.7036079039552 4.163414542001791...\n",
       "2    (POLYGON ((-69.51008875199994 -17.506588197999...\n",
       "3    POLYGON ((-69.51008875199994 -17.5065881979999...\n",
       "4    (POLYGON ((-69.51008875199994 -17.506588197999...\n",
       "Name: geometry, dtype: object"
      ]
     },
     "execution_count": 15,
     "metadata": {},
     "output_type": "execute_result"
    }
   ],
   "source": [
    "gdf.geometry[:5]"
   ]
  },
  {
   "cell_type": "code",
   "execution_count": 16,
   "metadata": {},
   "outputs": [
    {
     "data": {
      "text/plain": [
       "{'init': 'epsg:4326'}"
      ]
     },
     "execution_count": 16,
     "metadata": {},
     "output_type": "execute_result"
    }
   ],
   "source": [
    "# confirm the coordinate reference system (CRS)\n",
    "# ouput is EPSG code 4326, which is WGS84\n",
    "gdf.crs"
   ]
  },
  {
   "cell_type": "markdown",
   "metadata": {},
   "source": []
  },
  {
   "cell_type": "code",
   "execution_count": 5,
   "metadata": {},
   "outputs": [],
   "source": [
    "# subset shape file to only include country borders of Mozambique\n",
    "gdf_mozambique = gdf[gdf['ADMIN']=='Mozambique']"
   ]
  },
  {
   "cell_type": "code",
   "execution_count": 13,
   "metadata": {},
   "outputs": [
    {
     "data": {
      "text/plain": [
       "122    (POLYGON ((32.11388431800009 -26.8400143429999...\n",
       "Name: geometry, dtype: object"
      ]
     },
     "execution_count": 13,
     "metadata": {},
     "output_type": "execute_result"
    }
   ],
   "source": [
    "#inspect geometry\n",
    "gdf_mozambique.geometry"
   ]
  },
  {
   "cell_type": "code",
   "execution_count": 11,
   "metadata": {},
   "outputs": [
    {
     "data": {
      "image/png": "[encoded data removed]",
      "text/plain": [
       "<Figure size 576x576 with 1 Axes>"
      ]
     },
     "metadata": {
      "needs_background": "light"
     },
     "output_type": "display_data"
    }
   ],
   "source": [
    "# plot Mozambique shape file \n",
    "fig, ax = plt.subplots(figsize=(8,8))\n",
    "\n",
    "# set aspect to equal when plotting directly with pyplot\n",
    "ax.set_aspect('equal')\n",
    "_ = gdf_mozambique.plot(ax=ax, legend=True)"
   ]
  },
  {
   "cell_type": "code",
   "execution_count": 28,
   "metadata": {},
   "outputs": [
    {
     "data": {
      "image/png": "[encoded data removed]",
      "text/plain": [
       "<Figure size 432x432 with 1 Axes>"
      ]
     },
     "metadata": {
      "needs_background": "light"
     },
     "output_type": "display_data"
    },
    {
     "data": {
      "text/plain": [
       "(<Figure size 432x432 with 1 Axes>,\n",
       " <matplotlib.axes._subplots.AxesSubplot at 0x1aeb64080>)"
      ]
     },
     "execution_count": 28,
     "metadata": {},
     "output_type": "execute_result"
    }
   ],
   "source": [
    "# alternatively, we could also do this with open street map\n",
    "# oxmnx downloads shapes from OpenStreetMap (as geopandas GeoDataFrames) in one line of Python code\n",
    "# get area extent - a polygon - of Mozambique\n",
    "mozambique_area = ox.gdf_from_place('Mozambique')\n",
    "ox.plot_shape(ox.project_gdf(mozambique_area))\n",
    "# graph = ox.graph_from_place(place_name, which_result=2)"
   ]
  },
  {
   "cell_type": "markdown",
   "metadata": {},
   "source": [
    "#### Open file"
   ]
  },
  {
   "cell_type": "code",
   "execution_count": null,
   "metadata": {},
   "outputs": [],
   "source": [
    "with rasterio.open('<filename>', 'w',\n",
    "                    driver='GTiff',\n",
    "                    height=Z.shape[0],\n",
    "                    width=Z.shape[0],\n",
    "                    count=1,\n",
    "                    dtype=Z.dtype,\n",
    "                    crs='proj=latlong', # this is a \"proj4\" string defining the projection\n",
    "                    transform=transform,\n",
    "                    ) as dst:\n",
    "    dst.write(Z, 1)"
   ]
  },
  {
   "cell_type": "markdown",
   "metadata": {},
   "source": [
    "### Make raster using shapefile"
   ]
  },
  {
   "cell_type": "code",
   "execution_count": null,
   "metadata": {},
   "outputs": [],
   "source": [
    "with fiona.open(\"tests/data/box.shp\", \"r\") as shapefile:\n",
    "    features = [feature[\"geometry\"] for feature in shapefile]"
   ]
  }
 ],
 "metadata": {
  "kernelspec": {
   "display_name": "Python 3",
   "language": "python",
   "name": "python3"
  },
  "language_info": {
   "codemirror_mode": {
    "name": "ipython",
    "version": 3
   },
   "file_extension": ".py",
   "mimetype": "text/x-python",
   "name": "python",
   "nbconvert_exporter": "python",
   "pygments_lexer": "ipython3",
   "version": "3.7.3"
  }
 },
 "nbformat": 4,
 "nbformat_minor": 2
}
