{
 "cells": [
  {
   "cell_type": "markdown",
   "metadata": {},
   "source": [
    "## geo_mozambique_1"
   ]
  },
  {
   "cell_type": "code",
   "execution_count": 33,
   "metadata": {},
   "outputs": [],
   "source": [
    "import pandas as pd\n",
    "import geopandas as gpd\n",
    "import numpy as np\n",
    "import matplotlib.pyplot as plt\n",
    "\n",
    "import earthpy as et\n",
    "import earthpy.plot as ep\n",
    "import earthpy.spatial as es\n",
    "\n",
    "import osmnx as ox\n",
    "\n",
    "from bs4 import BeautifulSoup\n",
    "\n",
    "import fiona\n",
    "\n",
    "import gdal\n",
    "\n",
    "import pyproj\n",
    "\n",
    "import rasterio as rio\n",
    "from rasterio.plot import show, show_hist\n",
    "from rasterio.mask import mask\n",
    "\n",
    "import cartopy as cp\n",
    "from shapely.geometry import mapping\n",
    "from pathlib import Path\n",
    "\n",
    "import requests\n",
    "import urllib\n",
    "import urllib.parse\n",
    "\n",
    "import os\n",
    "import pathlib\n",
    "\n",
    "import holoviews as hv\n",
    "import hvplot.xarray\n",
    "import hvplot.pandas\n",
    "import geoviews as gv\n",
    "\n",
    "from ast import literal_eval\n",
    "\n",
    "import shapely\n",
    "\n",
    "from ipyleaflet import Map, basemaps, basemap_to_tiles, TileLayer, SplitMapControl, Polygon\n",
    "\n",
    "%matplotlib inline"
   ]
  },
  {
   "cell_type": "code",
   "execution_count": 2,
   "metadata": {},
   "outputs": [],
   "source": [
    "np.random.seed(3)"
   ]
  },
  {
   "cell_type": "markdown",
   "metadata": {},
   "source": [
    "### Data understanding"
   ]
  },
  {
   "cell_type": "markdown",
   "metadata": {},
   "source": [
    "#### Acquire shapefiles - Natural Earth"
   ]
  },
  {
   "cell_type": "code",
   "execution_count": 3,
   "metadata": {},
   "outputs": [],
   "source": [
    "%%bash \n",
    "# in terminal, download and unzip 10m country boundaries shapes from Natural Earth #TODO (Lee) - format long url\n",
    "# wget https://www.naturalearthdata.com/http//www.naturalearthdata.com/download/10m/cultural/ne_10m_admin_0_countries.zip -P ~/Documents/projects_code/geo_mozambique/data/shapes/\n",
    "# unzip ~/Documents/projects_code/geo_mozambique/data/shapes/ne_10m_admin_0_countries.zip -d ~/Documents/projects_code/geo_mozambique/data/shapes/"
   ]
  },
  {
   "cell_type": "code",
   "execution_count": 6,
   "metadata": {},
   "outputs": [],
   "source": [
    "# specify directory containing shapefiles\n",
    "shapes = '/Users/lee/Documents/projects_code/geo_mozambique/data/shapes/ne_10m_admin_0_countries.shp'"
   ]
  },
  {
   "cell_type": "code",
   "execution_count": 10,
   "metadata": {},
   "outputs": [
    {
     "data": {
      "text/html": [
       "<div>\n",
       "<style scoped>\n",
       "    .dataframe tbody tr th:only-of-type {\n",
       "        vertical-align: middle;\n",
       "    }\n",
       "\n",
       "    .dataframe tbody tr th {\n",
       "        vertical-align: top;\n",
       "    }\n",
       "\n",
       "    .dataframe thead th {\n",
       "        text-align: right;\n",
       "    }\n",
       "</style>\n",
       "<table border=\"1\" class=\"dataframe\">\n",
       "  <thead>\n",
       "    <tr style=\"text-align: right;\">\n",
       "      <th></th>\n",
       "      <th>featurecla</th>\n",
       "      <th>scalerank</th>\n",
       "      <th>LABELRANK</th>\n",
       "      <th>SOVEREIGNT</th>\n",
       "      <th>SOV_A3</th>\n",
       "      <th>ADM0_DIF</th>\n",
       "      <th>LEVEL</th>\n",
       "      <th>TYPE</th>\n",
       "      <th>ADMIN</th>\n",
       "      <th>ADM0_A3</th>\n",
       "      <th>...</th>\n",
       "      <th>NAME_KO</th>\n",
       "      <th>NAME_NL</th>\n",
       "      <th>NAME_PL</th>\n",
       "      <th>NAME_PT</th>\n",
       "      <th>NAME_RU</th>\n",
       "      <th>NAME_SV</th>\n",
       "      <th>NAME_TR</th>\n",
       "      <th>NAME_VI</th>\n",
       "      <th>NAME_ZH</th>\n",
       "      <th>geometry</th>\n",
       "    </tr>\n",
       "  </thead>\n",
       "  <tbody>\n",
       "    <tr>\n",
       "      <td>0</td>\n",
       "      <td>Admin-0 country</td>\n",
       "      <td>5</td>\n",
       "      <td>2</td>\n",
       "      <td>Indonesia</td>\n",
       "      <td>IDN</td>\n",
       "      <td>0</td>\n",
       "      <td>2</td>\n",
       "      <td>Sovereign country</td>\n",
       "      <td>Indonesia</td>\n",
       "      <td>IDN</td>\n",
       "      <td>...</td>\n",
       "      <td>인도네시아</td>\n",
       "      <td>Indonesië</td>\n",
       "      <td>Indonezja</td>\n",
       "      <td>Indonésia</td>\n",
       "      <td>Индонезия</td>\n",
       "      <td>Indonesien</td>\n",
       "      <td>Endonezya</td>\n",
       "      <td>Indonesia</td>\n",
       "      <td>印度尼西亚</td>\n",
       "      <td>(POLYGON ((117.7036079039552 4.163414542001791...</td>\n",
       "    </tr>\n",
       "    <tr>\n",
       "      <td>1</td>\n",
       "      <td>Admin-0 country</td>\n",
       "      <td>5</td>\n",
       "      <td>3</td>\n",
       "      <td>Malaysia</td>\n",
       "      <td>MYS</td>\n",
       "      <td>0</td>\n",
       "      <td>2</td>\n",
       "      <td>Sovereign country</td>\n",
       "      <td>Malaysia</td>\n",
       "      <td>MYS</td>\n",
       "      <td>...</td>\n",
       "      <td>말레이시아</td>\n",
       "      <td>Maleisië</td>\n",
       "      <td>Malezja</td>\n",
       "      <td>Malásia</td>\n",
       "      <td>Малайзия</td>\n",
       "      <td>Malaysia</td>\n",
       "      <td>Malezya</td>\n",
       "      <td>Malaysia</td>\n",
       "      <td>马来西亚</td>\n",
       "      <td>(POLYGON ((117.7036079039552 4.163414542001791...</td>\n",
       "    </tr>\n",
       "    <tr>\n",
       "      <td>2</td>\n",
       "      <td>Admin-0 country</td>\n",
       "      <td>6</td>\n",
       "      <td>2</td>\n",
       "      <td>Chile</td>\n",
       "      <td>CHL</td>\n",
       "      <td>0</td>\n",
       "      <td>2</td>\n",
       "      <td>Sovereign country</td>\n",
       "      <td>Chile</td>\n",
       "      <td>CHL</td>\n",
       "      <td>...</td>\n",
       "      <td>칠레</td>\n",
       "      <td>Chili</td>\n",
       "      <td>Chile</td>\n",
       "      <td>Chile</td>\n",
       "      <td>Чили</td>\n",
       "      <td>Chile</td>\n",
       "      <td>Şili</td>\n",
       "      <td>Chile</td>\n",
       "      <td>智利</td>\n",
       "      <td>(POLYGON ((-69.51008875199994 -17.506588197999...</td>\n",
       "    </tr>\n",
       "  </tbody>\n",
       "</table>\n",
       "<p>3 rows × 95 columns</p>\n",
       "</div>"
      ],
      "text/plain": [
       "        featurecla  scalerank  LABELRANK SOVEREIGNT SOV_A3  ADM0_DIF  LEVEL  \\\n",
       "0  Admin-0 country          5          2  Indonesia    IDN         0      2   \n",
       "1  Admin-0 country          5          3   Malaysia    MYS         0      2   \n",
       "2  Admin-0 country          6          2      Chile    CHL         0      2   \n",
       "\n",
       "                TYPE      ADMIN ADM0_A3  ...  NAME_KO    NAME_NL    NAME_PL  \\\n",
       "0  Sovereign country  Indonesia     IDN  ...    인도네시아  Indonesië  Indonezja   \n",
       "1  Sovereign country   Malaysia     MYS  ...    말레이시아   Maleisië    Malezja   \n",
       "2  Sovereign country      Chile     CHL  ...       칠레      Chili      Chile   \n",
       "\n",
       "     NAME_PT    NAME_RU     NAME_SV    NAME_TR    NAME_VI NAME_ZH  \\\n",
       "0  Indonésia  Индонезия  Indonesien  Endonezya  Indonesia   印度尼西亚   \n",
       "1    Malásia   Малайзия    Malaysia    Malezya   Malaysia    马来西亚   \n",
       "2      Chile       Чили       Chile       Şili      Chile      智利   \n",
       "\n",
       "                                            geometry  \n",
       "0  (POLYGON ((117.7036079039552 4.163414542001791...  \n",
       "1  (POLYGON ((117.7036079039552 4.163414542001791...  \n",
       "2  (POLYGON ((-69.51008875199994 -17.506588197999...  \n",
       "\n",
       "[3 rows x 95 columns]"
      ]
     },
     "execution_count": 10,
     "metadata": {},
     "output_type": "execute_result"
    }
   ],
   "source": [
    "# create geodataframe, a pandas-like data structure containing geoseries\n",
    "gdf = gpd.read_file(shapes)\n",
    "\n",
    "# inspect geodataframe\n",
    "gdf.head(3)"
   ]
  },
  {
   "cell_type": "code",
   "execution_count": 12,
   "metadata": {},
   "outputs": [
    {
     "data": {
      "text/plain": [
       "{'init': 'epsg:4326'}"
      ]
     },
     "execution_count": 12,
     "metadata": {},
     "output_type": "execute_result"
    }
   ],
   "source": [
    "# inspect coordinate reference system (CRS)\n",
    "gdf.crs\n",
    "# ouput is EPSG code 4326, which is WGS84"
   ]
  },
  {
   "cell_type": "code",
   "execution_count": 13,
   "metadata": {},
   "outputs": [],
   "source": [
    "# subset shape file to only include country borders of Mozambique\n",
    "gdf_mozambique = gdf[gdf['ADMIN']=='Mozambique']"
   ]
  },
  {
   "cell_type": "code",
   "execution_count": 14,
   "metadata": {},
   "outputs": [
    {
     "data": {
      "text/plain": [
       "122    (POLYGON ((32.11388431800009 -26.8400143429999...\n",
       "Name: geometry, dtype: object"
      ]
     },
     "execution_count": 14,
     "metadata": {},
     "output_type": "execute_result"
    }
   ],
   "source": [
    "# inspect geometry\n",
    "gdf_mozambique.geometry"
   ]
  },
  {
   "cell_type": "code",
   "execution_count": 32,
   "metadata": {},
   "outputs": [
    {
     "data": {
      "image/png": "[encoded data removed]",
      "text/plain": [
       "<Figure size 432x432 with 1 Axes>"
      ]
     },
     "metadata": {
      "needs_background": "light"
     },
     "output_type": "display_data"
    }
   ],
   "source": [
    "# plot Mozambique shape file \n",
    "fig, ax = plt.subplots(figsize=(6,6))\n",
    "\n",
    "# set aspect to equal when plotting directly with plt\n",
    "ax.set_aspect('equal')\n",
    "_ = gdf_mozambique.plot(ax=ax, legend=True)"
   ]
  },
  {
   "cell_type": "markdown",
   "metadata": {},
   "source": [
    "#### Acquire shapefiles - OSMNX"
   ]
  },
  {
   "cell_type": "code",
   "execution_count": 18,
   "metadata": {},
   "outputs": [
    {
     "data": {
      "image/png": "[encoded data removed]",
      "text/plain": [
       "<Figure size 432x432 with 1 Axes>"
      ]
     },
     "metadata": {
      "needs_background": "light"
     },
     "output_type": "display_data"
    }
   ],
   "source": [
    "# alternately, use osmnx to get shapefiles from open street map as gpd geodataframe\n",
    "\n",
    "# get area extent - a polygon - of Mozambique\n",
    "mozambique_area = ox.gdf_from_place('Mozambique')\n",
    "_ = ox.plot_shape(ox.project_gdf(mozambique_area))\n",
    "# graph = ox.graph_from_place(place_name, which_result=2)"
   ]
  },
  {
   "cell_type": "code",
   "execution_count": 34,
   "metadata": {},
   "outputs": [
    {
     "name": "stdout",
     "output_type": "stream",
     "text": [
      "Driver: GTiff/GeoTIFF\n",
      "Files: /vsicurl/https://opendata.digitalglobe.com/cyclone_idai/pre-event/2019-03-07/103001008BD57E00/1131100.tif\n",
      "       /vsicurl/https://opendata.digitalglobe.com/cyclone_idai/pre-event/2019-03-07/103001008BD57E00/1131100.tif.ovr\n",
      "Size is 19584, 19584\n",
      "Coordinate System is:\n",
      "GEOGCS[\"WGS 84\",\n",
      "    DATUM[\"WGS_1984\",\n",
      "        SPHEROID[\"WGS 84\",6378137,298.257223563,\n",
      "            AUTHORITY[\"EPSG\",\"7030\"]],\n",
      "        AUTHORITY[\"EPSG\",\"6326\"]],\n",
      "    PRIMEM[\"Greenwich\",0],\n",
      "    UNIT[\"degree\",0.0174532925199433],\n",
      "    AUTHORITY[\"EPSG\",\"4326\"]]\n",
      "Origin = (33.398437500000000,-21.005859375000000)\n",
      "Pixel Size = (0.000004487879136,-0.000004487879136)\n",
      "Metadata:\n",
      "  AREA_OR_POINT=Area\n",
      "  TIFFTAG_COPYRIGHT=(C) Copyright 2019 DigitalGlobe, Inc., Longmont CO USA 80503\n",
      "Image Structure Metadata:\n",
      "  INTERLEAVE=PIXEL\n",
      "Corner Coordinates:\n",
      "Upper Left  (  33.3984375, -21.0058594) ( 33d23'54.38\"E, 21d 0'21.09\"S)\n",
      "Lower Left  (  33.3984375, -21.0937500) ( 33d23'54.38\"E, 21d 5'37.50\"S)\n",
      "Upper Right (  33.4863281, -21.0058594) ( 33d29'10.78\"E, 21d 0'21.09\"S)\n",
      "Lower Right (  33.4863281, -21.0937500) ( 33d29'10.78\"E, 21d 5'37.50\"S)\n",
      "Center      (  33.4423828, -21.0498047) ( 33d26'32.58\"E, 21d 2'59.30\"S)\n",
      "Band 1 Block=19584x1 Type=Byte, ColorInterp=Red\n",
      "  NoData Value=0\n",
      "  Overviews: 9792x9792, 4896x4896, 2448x2448, 1224x1224, 612x612, 306x306\n",
      "Band 2 Block=19584x1 Type=Byte, ColorInterp=Green\n",
      "  NoData Value=0\n",
      "  Overviews: 9792x9792, 4896x4896, 2448x2448, 1224x1224, 612x612, 306x306\n",
      "Band 3 Block=19584x1 Type=Byte, ColorInterp=Blue\n",
      "  NoData Value=0\n",
      "  Overviews: 9792x9792, 4896x4896, 2448x2448, 1224x1224, 612x612, 306x306\n"
     ]
    }
   ],
   "source": [
    "%%bash\n",
    "# inspect tif file #1131100 from cyclone_idai pre-event images from 2019-03-07\n",
    "\n",
    "# GDAL is a translator library for geospatial data formats\n",
    "gdalinfo /vsicurl/https://opendata.digitalglobe.com/cyclone_idai/pre-event/2019-03-07/103001008BD57E00/1131100.tif"
   ]
  },
  {
   "cell_type": "code",
   "execution_count": 13,
   "metadata": {},
   "outputs": [],
   "source": [
    "# exists = os.path.isfile('foo.vrt')\n",
    "# if exists:\n",
    "#     os.system('rm foo.vrt')\n",
    "#     os.system('gdalbuildvrt foo.vrt /vsicurl/https://opendata.digitalglobe.com/cyclone_idai/pre-event/2019-03-07/103001008BD57E00/1131100.tif')"
   ]
  },
  {
   "cell_type": "code",
   "execution_count": null,
   "metadata": {},
   "outputs": [],
   "source": [
    "# path = pathlib.Path('myfile.txt')\n",
    "# path.exists()\n",
    "# path.is_file()"
   ]
  },
  {
   "cell_type": "code",
   "execution_count": 14,
   "metadata": {},
   "outputs": [],
   "source": [
    "# un-comment to build VRT from a list of datasets\n",
    "# gdalbuildvrt"
   ]
  },
  {
   "cell_type": "code",
   "execution_count": 15,
   "metadata": {},
   "outputs": [],
   "source": [
    "# def get_raster_data(url, date):\n",
    "#     \"\"\"Get raster open data\"\"\"\n",
    "#     import gdal\n",
    "#     exists = os.path.isfile('foo.vrt')\n",
    "#     if exists:\n",
    "#         os.system('rm foo.vrt')\n",
    "#         os.system('gdalbuildvrt foo.vrt /vsicurl/http://opendata.digitalglobe.com/cyclone-kenneth/pre-event/)"
   ]
  },
  {
   "cell_type": "code",
   "execution_count": 16,
   "metadata": {},
   "outputs": [],
   "source": [
    "# get data for cyclone idai"
   ]
  },
  {
   "cell_type": "code",
   "execution_count": 17,
   "metadata": {},
   "outputs": [],
   "source": [
    "# build a VRT (Virtual Dataset) that is a mosaic of the list of input GDAL datasets. \n",
    "# OGR Virtual Format is a driver that transforms features read from other drivers based on criteria specified in an XML control file. \n",
    "# Primarily used to derive spatial layers from flat tables with spatial information in attribute columns.\n",
    "# Also be used to associate coordinate system information with a datasource, merge layers from different datasources \n",
    "# into a single data source, or even just to provide an anchor file for access to non-file oriented datasources."
   ]
  },
  {
   "cell_type": "code",
   "execution_count": null,
   "metadata": {},
   "outputs": [],
   "source": [
    "# STAC metadata not available for DigitalGlobe Open Data\n",
    "# Create inventory of all images available for Cyclone Idai"
   ]
  },
  {
   "cell_type": "markdown",
   "metadata": {},
   "source": [
    "#### Scrape images from Digital Global open data"
   ]
  },
  {
   "cell_type": "code",
   "execution_count": 76,
   "metadata": {},
   "outputs": [],
   "source": [
    "def get_opendata(event_name, filename):\n",
    "    import requests\n",
    "    import urllib\n",
    "    html = request_opendata_event(event_name)\n",
    "    data = get_opendata_links(html, filename)\n",
    "    return data"
   ]
  },
  {
   "cell_type": "code",
   "execution_count": 77,
   "metadata": {},
   "outputs": [
    {
     "data": {
      "text/plain": [
       "<_io.TextIOWrapper name='event_tifs_3.txt' mode='a' encoding='UTF-8'>"
      ]
     },
     "execution_count": 77,
     "metadata": {},
     "output_type": "execute_result"
    }
   ],
   "source": [
    "get_opendata('cyclone_idai', 'event_tifs_3')"
   ]
  },
  {
   "cell_type": "code",
   "execution_count": 69,
   "metadata": {},
   "outputs": [],
   "source": [
    "def request_opendata_event(event_name):\n",
    "    \"\"\"Build open data event parsing url call\"\"\"\n",
    "    import requests\n",
    "    import urllib\n",
    "    url_base = \"https://www.digitalglobe.com/ecosystem/open-data/\"\n",
    "    event=event_name\n",
    "    html = requests.get(url_base + event_name)\n",
    "    return html"
   ]
  },
  {
   "cell_type": "code",
   "execution_count": 41,
   "metadata": {},
   "outputs": [],
   "source": [
    "html = request_opendata_event('cyclone_idai')"
   ]
  },
  {
   "cell_type": "code",
   "execution_count": 42,
   "metadata": {},
   "outputs": [
    {
     "data": {
      "text/plain": [
       "<Response [200]>"
      ]
     },
     "execution_count": 42,
     "metadata": {},
     "output_type": "execute_result"
    }
   ],
   "source": [
    "html"
   ]
  },
  {
   "cell_type": "code",
   "execution_count": 75,
   "metadata": {},
   "outputs": [],
   "source": [
    "def get_opendata_links(html, filename):\n",
    "    soup = BeautifulSoup(html.text, \"html.parser\")\n",
    "    for link in soup.find_all('a'):\n",
    "        href = link['href']\n",
    "        filename = filename\n",
    "        if href.endswith('.tif'):\n",
    "            with open(f\"{filename}.txt\", \"a\") as f:\n",
    "                f.write(href+\"\\n\") # write on new line\n",
    "    return f"
   ]
  },
  {
   "cell_type": "code",
   "execution_count": 63,
   "metadata": {},
   "outputs": [],
   "source": [
    "def get_dgopendata(event, filename):\n",
    "    html = request_opendata_event(event)\n",
    "    data = get_opendata_links(html)\n",
    "    return data"
   ]
  },
  {
   "cell_type": "code",
   "execution_count": 64,
   "metadata": {},
   "outputs": [
    {
     "data": {
      "text/plain": [
       "<_io.TextIOWrapper name='event_tifs_2.txt' mode='a' encoding='UTF-8'>"
      ]
     },
     "execution_count": 64,
     "metadata": {},
     "output_type": "execute_result"
    }
   ],
   "source": [
    "get_dgopendata(\"cyclone_idai\")"
   ]
  },
  {
   "cell_type": "code",
   "execution_count": 65,
   "metadata": {},
   "outputs": [],
   "source": [
    "url = \"https://www.digitalglobe.com/ecosystem/open-data/cyclone_idai\"\n",
    "html = requests.get(url)\n",
    "soup = BeautifulSoup(html.text, \"html.parser\")\n",
    "\n",
    "for link in soup.find_all('a', href=True):\n",
    "    href = link['href']\n",
    "    if href.endswith('.tif'):\n",
    "        with open(\"{filename}.txt\", \"a\") as f:\n",
    "            f.write(href+\"\\n\") # write on new line"
   ]
  },
  {
   "cell_type": "code",
   "execution_count": 39,
   "metadata": {},
   "outputs": [
    {
     "data": {
      "text/html": [
       "<div>\n",
       "<style scoped>\n",
       "    .dataframe tbody tr th:only-of-type {\n",
       "        vertical-align: middle;\n",
       "    }\n",
       "\n",
       "    .dataframe tbody tr th {\n",
       "        vertical-align: top;\n",
       "    }\n",
       "\n",
       "    .dataframe thead th {\n",
       "        text-align: right;\n",
       "    }\n",
       "</style>\n",
       "<table border=\"1\" class=\"dataframe\">\n",
       "  <thead>\n",
       "    <tr style=\"text-align: right;\">\n",
       "      <th></th>\n",
       "      <th>url</th>\n",
       "    </tr>\n",
       "  </thead>\n",
       "  <tbody>\n",
       "    <tr>\n",
       "      <td>0</td>\n",
       "      <td>https://opendata.digitalglobe.com/cyclone_idai...</td>\n",
       "    </tr>\n",
       "    <tr>\n",
       "      <td>1</td>\n",
       "      <td>https://opendata.digitalglobe.com/cyclone_idai...</td>\n",
       "    </tr>\n",
       "    <tr>\n",
       "      <td>2</td>\n",
       "      <td>https://opendata.digitalglobe.com/cyclone_idai...</td>\n",
       "    </tr>\n",
       "    <tr>\n",
       "      <td>3</td>\n",
       "      <td>https://opendata.digitalglobe.com/cyclone_idai...</td>\n",
       "    </tr>\n",
       "    <tr>\n",
       "      <td>4</td>\n",
       "      <td>https://opendata.digitalglobe.com/cyclone_idai...</td>\n",
       "    </tr>\n",
       "  </tbody>\n",
       "</table>\n",
       "</div>"
      ],
      "text/plain": [
       "                                                 url\n",
       "0  https://opendata.digitalglobe.com/cyclone_idai...\n",
       "1  https://opendata.digitalglobe.com/cyclone_idai...\n",
       "2  https://opendata.digitalglobe.com/cyclone_idai...\n",
       "3  https://opendata.digitalglobe.com/cyclone_idai...\n",
       "4  https://opendata.digitalglobe.com/cyclone_idai..."
      ]
     },
     "execution_count": 39,
     "metadata": {},
     "output_type": "execute_result"
    }
   ],
   "source": [
    "# read the list of images\n",
    "df = pd.read_csv('event_tifs.txt', names=['url'])\n",
    "df.head(5)"
   ]
  },
  {
   "cell_type": "markdown",
   "metadata": {},
   "source": [
    "#### Open file"
   ]
  },
  {
   "cell_type": "markdown",
   "metadata": {},
   "source": [
    "- a dataset band is an array of values representing the partial distribution of a single variable in 2-dimensional (2D) space. \n",
    "- all band arrays of a dataset have the same number of rows and columns. \n",
    "- the variable represented by the example dataset’s sole band is Level-1 digital numbers (DN) for the Landsat 8 operational Land Imager (OLI) band 4 (wavelengths between 640-670 nanometers). \n",
    "- these values can be scaled to radiance or reflectance values. The array of DN values is 7731 columns wide and 7871 rows high."
   ]
  },
  {
   "cell_type": "code",
   "execution_count": 36,
   "metadata": {},
   "outputs": [
    {
     "name": "stdout",
     "output_type": "stream",
     "text": [
      "Digital Globe open data:\n",
      "{'driver': 'GTiff', 'dtype': 'uint8', 'nodata': 0.0, 'width': 19584, 'height': 19584, 'count': 3, 'crs': CRS.from_epsg(4326), 'transform': Affine(4.48787913602941e-06, 0.0, 33.3984375,\n",
      "       0.0, -4.48787913602941e-06, -21.005859375), 'tiled': False, 'interleave': 'pixel'}\n"
     ]
    }
   ],
   "source": [
    "# read metadata of raster (tif) file from Digital Globe's open data url pages using rasterio as context mgr\n",
    "print('Digital Globe open data:')\n",
    "filepath = 'https://opendata.digitalglobe.com/cyclone_idai/pre-event/2019-03-07/103001008BD57E00/1131100.tif'\n",
    "with rio.open(filepath) as src:\n",
    "    print(src.profile)\n",
    "\n",
    "# inspect metadata:\n",
    "\n",
    "# ('driver': 'GTiff') = object is a Geotiff\n",
    "# ('dtype': 'uint8') = the image values are unsigned integer format\n",
    "# ('nodata': 0.0) = nodata values are not assigned\n",
    "# ('width': 19584, 'height': 19584) = the image has a dimensions of 19584 x 19584 \n",
    "# ('count': 3) = is a single band\n",
    "# ('crs': CRS.from_epsg(4326) = is in UTM coordinates\n",
    "# (Affine()) = has a simple affine transformation (Affine())\n",
    "# ('tiled': False) = is not chunked into smaller arrays\n",
    "# ('interleave': 'pixel') = interleave is pixel"
   ]
  },
  {
   "cell_type": "code",
   "execution_count": 28,
   "metadata": {},
   "outputs": [
    {
     "name": "stdout",
     "output_type": "stream",
     "text": [
      "Decimation factor= 64\n",
      "array type:  <class 'numpy.ndarray'>\n",
      "[[  0   0   0 ... 148 198 246]\n",
      " [  0   0   0 ... 151 212 254]\n",
      " [  0   0   0 ... 146 192 250]\n",
      " ...\n",
      " [  0   0   0 ...   0   0   0]\n",
      " [  0   0   0 ...   0   0   0]\n",
      " [  0   0   0 ...   0   0   0]]\n"
     ]
    },
    {
     "data": {
      "text/plain": [
       "Text(0, 0.5, 'Row #')"
      ]
     },
     "execution_count": 28,
     "metadata": {},
     "output_type": "execute_result"
    },
    {
     "data": {
      "image/png": "[encoded data removed]",
      "text/plain": [
       "<Figure size 432x288 with 2 Axes>"
      ]
     },
     "metadata": {
      "needs_background": "light"
     },
     "output_type": "display_data"
    }
   ],
   "source": [
    "# plot low-res overview by accessing grid of raster values as a np array:\n",
    "\n",
    "with rio.open(filepath) as src:\n",
    "   oviews = src.overviews(1) # list of overviews from biggest to smallest\n",
    "   oview = oviews[-1] # let's look at the smallest thumbnail\n",
    "   print('Decimation factor= {}'.format(oview)) # use 'decimated read'\n",
    "   thumbnail = src.read(1, out_shape=(1, int(src.height // oview), int(src.width // oview)))\n",
    "\n",
    "print('array type: ',type(thumbnail))\n",
    "print(thumbnail)\n",
    "\n",
    "plt.imshow(thumbnail)\n",
    "plt.colorbar()\n",
    "plt.title('Overview {}'.format(thumbnail.shape))\n",
    "plt.xlabel('Column #')\n",
    "plt.ylabel('Row #')"
   ]
  },
  {
   "cell_type": "code",
   "execution_count": 30,
   "metadata": {},
   "outputs": [],
   "source": [
    "# open raster (tif) file\n",
    "dataset = rio.open('https://opendata.digitalglobe.com/cyclone_idai/pre-event/2019-03-07/103001008BD57E00/1131100.tif')"
   ]
  },
  {
   "cell_type": "code",
   "execution_count": 31,
   "metadata": {},
   "outputs": [
    {
     "ename": "RasterioIOError",
     "evalue": "Read or write failed. /vsicurl/https://opendata.digitalglobe.com/cyclone_idai/pre-event/2019-03-07/103001008BD57E00/1131100.tif, band 1: IReadBlock failed at X offset 0, Y offset 14197: TIFFReadEncodedStrip() failed.",
     "output_type": "error",
     "traceback": [
      "\u001b[0;31m---------------------------------------------------------------------------\u001b[0m",
      "\u001b[0;31mCPLE_AppDefinedError\u001b[0m                      Traceback (most recent call last)",
      "\u001b[0;32mrasterio/_io.pyx\u001b[0m in \u001b[0;36mrasterio._io.DatasetReaderBase._read\u001b[0;34m()\u001b[0m\n",
      "\u001b[0;32mrasterio/shim_rasterioex.pxi\u001b[0m in \u001b[0;36mrasterio._shim.io_multi_band\u001b[0;34m()\u001b[0m\n",
      "\u001b[0;32mrasterio/_err.pyx\u001b[0m in \u001b[0;36mrasterio._err.exc_wrap_int\u001b[0;34m()\u001b[0m\n",
      "\u001b[0;31mCPLE_AppDefinedError\u001b[0m: /vsicurl/https://opendata.digitalglobe.com/cyclone_idai/pre-event/2019-03-07/103001008BD57E00/1131100.tif, band 1: IReadBlock failed at X offset 0, Y offset 14197: TIFFReadEncodedStrip() failed.",
      "\nDuring handling of the above exception, another exception occurred:\n",
      "\u001b[0;31mRasterioIOError\u001b[0m                           Traceback (most recent call last)",
      "\u001b[0;32m<ipython-input-31-88feee59c4b7>\u001b[0m in \u001b[0;36m<module>\u001b[0;34m\u001b[0m\n\u001b[1;32m      1\u001b[0m \u001b[0;31m# plot\u001b[0m\u001b[0;34m\u001b[0m\u001b[0;34m\u001b[0m\u001b[0;34m\u001b[0m\u001b[0m\n\u001b[0;32m----> 2\u001b[0;31m \u001b[0mplt\u001b[0m\u001b[0;34m.\u001b[0m\u001b[0mimshow\u001b[0m\u001b[0;34m(\u001b[0m\u001b[0mdataset\u001b[0m\u001b[0;34m.\u001b[0m\u001b[0mread\u001b[0m\u001b[0;34m(\u001b[0m\u001b[0;36m1\u001b[0m\u001b[0;34m)\u001b[0m\u001b[0;34m,\u001b[0m \u001b[0mcmap\u001b[0m\u001b[0;34m=\u001b[0m\u001b[0;34m'pink'\u001b[0m\u001b[0;34m)\u001b[0m\u001b[0;34m\u001b[0m\u001b[0;34m\u001b[0m\u001b[0m\n\u001b[0m\u001b[1;32m      3\u001b[0m \u001b[0;31m# plt.image.AxesImage object at 0x...>\u001b[0m\u001b[0;34m\u001b[0m\u001b[0;34m\u001b[0m\u001b[0;34m\u001b[0m\u001b[0m\n\u001b[1;32m      4\u001b[0m \u001b[0mplt\u001b[0m\u001b[0;34m.\u001b[0m\u001b[0mshow\u001b[0m\u001b[0;34m(\u001b[0m\u001b[0;34m)\u001b[0m\u001b[0;34m\u001b[0m\u001b[0;34m\u001b[0m\u001b[0m\n",
      "\u001b[0;32mrasterio/_io.pyx\u001b[0m in \u001b[0;36mrasterio._io.DatasetReaderBase.read\u001b[0;34m()\u001b[0m\n",
      "\u001b[0;32mrasterio/_io.pyx\u001b[0m in \u001b[0;36mrasterio._io.DatasetReaderBase._read\u001b[0;34m()\u001b[0m\n",
      "\u001b[0;31mRasterioIOError\u001b[0m: Read or write failed. /vsicurl/https://opendata.digitalglobe.com/cyclone_idai/pre-event/2019-03-07/103001008BD57E00/1131100.tif, band 1: IReadBlock failed at X offset 0, Y offset 14197: TIFFReadEncodedStrip() failed."
     ]
    }
   ],
   "source": [
    "# plot\n",
    "plt.imshow(dataset.read(1), cmap='pink')\n",
    "# plt.image.AxesImage object at 0x...>\n",
    "plt.show()"
   ]
  },
  {
   "cell_type": "code",
   "execution_count": null,
   "metadata": {},
   "outputs": [],
   "source": [
    "# plot image\n",
    "show(dataset)\n",
    "# plt.axes._subplots.AxesSubplot object at 0x...>\n",
    "show(dataset.read(), transform=dataset.transform)\n",
    "# plt.axes._subplots.AxesSubplot object at 0x...>"
   ]
  },
  {
   "cell_type": "code",
   "execution_count": null,
   "metadata": {},
   "outputs": [],
   "source": [
    "# plots of three bands\n",
    "fig, (axr, axg, axb) = plt.subplots(1,3, figsize=(21,7))\n",
    "show((dataset, 1), ax=axr, cmap='Reds', title='red channel')\n",
    "\n",
    "# plt.axes._subplots.AxesSubplot\n",
    "# show((dataset, 2), ax=axg, cmap='Greens', title='green channel')\n",
    "\n",
    "# plt.axes._subplots.AxesSubplot\n",
    "# show((dataset, 3), ax=axb, cmap='Blues', title='blue channel')\n",
    "\n",
    "# plt.axes._subplots.AxesSubplot\n",
    "\n",
    "# plt.show()"
   ]
  },
  {
   "cell_type": "code",
   "execution_count": null,
   "metadata": {},
   "outputs": [],
   "source": [
    "# plot color bands histogram\n",
    "show_hist(\n",
    "     dataset, bins=50, lw=0.0, stacked=False, alpha=0.3,\n",
    "     histtype='stepfilled', title=\"Histogram\")"
   ]
  },
  {
   "cell_type": "code",
   "execution_count": null,
   "metadata": {},
   "outputs": [],
   "source": [
    "# plot color bands and associated histogram\n",
    "fig, (axrgb, axhist) = plt.subplots(1, 2, figsize=(14,7))\n",
    "show(dataset, ax=axrgb)\n",
    "plt.axes._subplots.AxesSubplot\n",
    "show_hist(dataset, bins=50, histtype='stepfilled',\n",
    "           lw=0.0, stacked=False, alpha=0.3, ax=axhist)\n",
    "plt.show()\n"
   ]
  },
  {
   "cell_type": "code",
   "execution_count": null,
   "metadata": {},
   "outputs": [],
   "source": [
    "# inspect width\n",
    "dataset.width"
   ]
  },
  {
   "cell_type": "code",
   "execution_count": null,
   "metadata": {},
   "outputs": [],
   "source": [
    "#inspect height\n",
    "dataset.height"
   ]
  },
  {
   "cell_type": "code",
   "execution_count": null,
   "metadata": {},
   "outputs": [],
   "source": [
    "# return spatial bounding box by mapping raster image elements (pixels) map to regions on earth\n",
    "dataset.bounds\n",
    "# the image extends from 33.3984375 to 33.486328125 and 21.005859375 to -21.09375 "
   ]
  },
  {
   "cell_type": "code",
   "execution_count": null,
   "metadata": {},
   "outputs": [],
   "source": [
    "# the bounding box values derive from the the affine transformation matrix:\n",
    "dataset.transform\n",
    "# affine transformation matrix maps pixel locations in (row, col) coordinates\n",
    "# to (x, y) spatial positions."
   ]
  },
  {
   "cell_type": "code",
   "execution_count": null,
   "metadata": {},
   "outputs": [],
   "source": [
    "# calculate the spatial position of the upper left corner of dataset\n",
    "# by taking product of the Affine matrix and the row and column coordinates ((0, 0),)\n",
    "of the upper left corner of the dataset is the spatial position of the upper left corner\n",
    "dataset.transform * (0, 0)"
   ]
  },
  {
   "cell_type": "code",
   "execution_count": null,
   "metadata": {},
   "outputs": [],
   "source": [
    "# the position of the lower right corner is:\n",
    "dataset.transform * (dataset.width, dataset.height)"
   ]
  },
  {
   "cell_type": "code",
   "execution_count": null,
   "metadata": {},
   "outputs": [],
   "source": [
    "# these coordinate values are relative to the origin of the dataset’s CRS\n",
    "dataset.crs"
   ]
  },
  {
   "cell_type": "code",
   "execution_count": null,
   "metadata": {},
   "outputs": [],
   "source": [
    "# the CRS and affine transform georeference a raster dataset and make comparable to other datasets"
   ]
  },
  {
   "cell_type": "code",
   "execution_count": null,
   "metadata": {},
   "outputs": [],
   "source": [
    "# inspect number of bands, indexed by convention from 1, not 0\n",
    "dataset.indexes"
   ]
  },
  {
   "cell_type": "code",
   "execution_count": null,
   "metadata": {},
   "outputs": [],
   "source": [
    "# read band 1\n",
    "band_1 = dataset.read(1)\n",
    "\n",
    "# return np array\n",
    "band_1"
   ]
  },
  {
   "cell_type": "markdown",
   "metadata": {},
   "source": [
    "#### Data preparation: Make raster using shapefile"
   ]
  },
  {
   "cell_type": "code",
   "execution_count": null,
   "metadata": {},
   "outputs": [],
   "source": [
    "# with fiona.open(mozambique_area, \"r\") as shapefile:\n",
    "#     features = [feature[\"geometry\"] for feature in shapefile]"
   ]
  },
  {
   "cell_type": "markdown",
   "metadata": {},
   "source": [
    "#### Data preparation - Convert a .tif to a .mbtiles using gdal."
   ]
  },
  {
   "cell_type": "code",
   "execution_count": null,
   "metadata": {},
   "outputs": [],
   "source": [
    "# create an mbtiles file, which will allow us to unpack slippy tile, 256x256 image chips directly \n",
    "# this is a good approach for ML training data\n",
    "# Unpack' from mbtil container to create the actual image tiles"
   ]
  },
  {
   "cell_type": "code",
   "execution_count": null,
   "metadata": {},
   "outputs": [],
   "source": [
    "# import os\n",
    "# os.system('gdal_translate -of MBTiles 'https://opendata.digitalglobe.com/cyclone_idai/pre-event/2019-03-07/103001008BD57E00/1131100.tif' 1131100.mbtiles')"
   ]
  },
  {
   "cell_type": "markdown",
   "metadata": {},
   "source": [
    "#### Data understanding"
   ]
  },
  {
   "cell_type": "code",
   "execution_count": null,
   "metadata": {},
   "outputs": [],
   "source": [
    "# get all TMS slippymap tiles that cover bounding boxes with Mapbox SUPERMERCADO"
   ]
  },
  {
   "cell_type": "markdown",
   "metadata": {},
   "source": [
    "#### Create Pascal VOC data structure as format to present data to CNN Object Detector"
   ]
  },
  {
   "cell_type": "code",
   "execution_count": null,
   "metadata": {},
   "outputs": [],
   "source": [
    "# tmsVOCxml('VOC1900/','buildings',joined)\n",
    "# flattenTMS('tiles/','19','VOC1900/') \n",
    "#     flatten the TMS tile structure to put all images in one directory"
   ]
  },
  {
   "cell_type": "code",
   "execution_count": null,
   "metadata": {},
   "outputs": [],
   "source": [
    "# import os\n",
    "# cleanupPairs('VOC1900/')"
   ]
  },
  {
   "cell_type": "code",
   "execution_count": null,
   "metadata": {},
   "outputs": [],
   "source": [
    "ls VOC1900/Annotations/*.xml | wc -l"
   ]
  },
  {
   "cell_type": "code",
   "execution_count": null,
   "metadata": {},
   "outputs": [],
   "source": [
    "ls VOC1900/JPEGImages/*.jpg | wc -l"
   ]
  }
 ],
 "metadata": {
  "kernelspec": {
   "display_name": "Python 3",
   "language": "python",
   "name": "python3"
  },
  "language_info": {
   "codemirror_mode": {
    "name": "ipython",
    "version": 3
   },
   "file_extension": ".py",
   "mimetype": "text/x-python",
   "name": "python",
   "nbconvert_exporter": "python",
   "pygments_lexer": "ipython3",
   "version": "3.7.3"
  }
 },
 "nbformat": 4,
 "nbformat_minor": 4
}
